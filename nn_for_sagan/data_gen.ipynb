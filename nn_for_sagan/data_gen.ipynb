{
 "cells": [
  {
   "cell_type": "code",
   "execution_count": 3,
   "metadata": {},
   "outputs": [],
   "source": [
    "import numpy as np\n",
    "import matplotlib.pyplot as plt\n",
    "from astropy.modeling import models, fitting\n",
    "\n",
    "import sys\n",
    "sys.path.append('../../wuchengzhou')\n",
    "import sagan\n"
   ]
  },
  {
   "cell_type": "code",
   "execution_count": 4,
   "metadata": {},
   "outputs": [],
   "source": [
    "def generate_continuum(wave):\n",
    "    # Generate random parameters for the power law\n",
    "    amp1 = 5 * np.random.rand()\n",
    "    amp2 = np.random.rand()\n",
    "    alpha = np.random.uniform(0, 2)\n",
    "    stddev = np.random.uniform(500, 2500)\n",
    "    z = np.random.uniform(0, 0.01)\n",
    "    \n",
    "    # Create the model\n",
    "    pl_amps = models.PowerLaw1D(amplitude=amp1, x_0=5500, alpha=alpha, fixed={'x_0': True})\n",
    "    iron = sagan.IronTemplate(amplitude=amp2, stddev=stddev, z=z, name='Fe II')\n",
    "    model = pl_amps + iron\n",
    "    flux = model(wave)\n",
    "    \n",
    "    # Add noise\n",
    "    noise = np.random.normal(0, 0.05, wave.size)\n",
    "    flux += noise\n",
    "    \n",
    "    return flux"
   ]
  },
  {
   "cell_type": "code",
   "execution_count": 5,
   "metadata": {},
   "outputs": [],
   "source": [
    "def generate_spec(wave):\n",
    "    flux = generate_continuum(wave)\n",
    "    \n",
    "    # Generate random parameters for the emission lines\n",
    "    nlines = np.random.randint(1, 6)\n",
    "    for i in range(nlines):\n",
    "        amp_c = 5 * np.random.rand()\n",
    "        wavec = np.random.uniform(4300, 6700)\n",
    "        sigma_c = np.random.uniform(0, 3000)\n",
    "        line = sagan.Line_Gaussian(amplitude=amp_c, wavec=wavec, sigma=sigma_c)\n",
    "        \n",
    "        flux += line(wave)\n",
    "    \n",
    "    return flux"
   ]
  },
  {
   "cell_type": "code",
   "execution_count": null,
   "metadata": {},
   "outputs": [],
   "source": [
    "wave = np.linspace(4150, 7000, num=2000)\n",
    "flux = generate_spec(wave)\n",
    "plt.plot(wave, flux)\n",
    "plt.show()"
   ]
  },
  {
   "cell_type": "code",
   "execution_count": null,
   "metadata": {},
   "outputs": [],
   "source": [
    "wave_flux_pairs = []\n",
    "\n",
    "for _ in range(10000):\n",
    "    wave = np.linspace(4150, 7000, num=2000)\n",
    "    flux = generate_spec(wave)\n",
    "    wave_flux_pairs.append((wave, flux))\n",
    "    \n",
    "np.savez('data_generated/wave_flux_data.npz', wave_flux_pairs=wave_flux_pairs)"
   ]
  },
  {
   "cell_type": "code",
   "execution_count": 11,
   "metadata": {},
   "outputs": [
    {
     "name": "stdout",
     "output_type": "stream",
     "text": [
      "[[[4.15000000e+03 4.15142571e+03 4.15285143e+03 ... 6.99714857e+03\n",
      "   6.99857429e+03 7.00000000e+03]\n",
      "  [4.65254178e+00 4.68940805e+00 4.66631675e+00 ... 4.24684885e+00\n",
      "   4.38648560e+00 4.24140116e+00]]\n",
      "\n",
      " [[4.15000000e+03 4.15142571e+03 4.15285143e+03 ... 6.99714857e+03\n",
      "   6.99857429e+03 7.00000000e+03]\n",
      "  [4.86833635e+00 4.87856101e+00 4.85435032e+00 ... 1.92586524e+00\n",
      "   1.89426926e+00 1.92389229e+00]]\n",
      "\n",
      " [[4.15000000e+03 4.15142571e+03 4.15285143e+03 ... 6.99714857e+03\n",
      "   6.99857429e+03 7.00000000e+03]\n",
      "  [4.63328745e+00 4.52473337e+00 4.55668381e+00 ... 4.24470166e+00\n",
      "   4.22505127e+00 4.23068401e+00]]\n",
      "\n",
      " ...\n",
      "\n",
      " [[4.15000000e+03 4.15142571e+03 4.15285143e+03 ... 6.99714857e+03\n",
      "   6.99857429e+03 7.00000000e+03]\n",
      "  [8.77517931e-01 9.71445550e-01 9.84231822e-01 ... 7.63751484e-01\n",
      "   7.31502038e-01 7.88441823e-01]]\n",
      "\n",
      " [[4.15000000e+03 4.15142571e+03 4.15285143e+03 ... 6.99714857e+03\n",
      "   6.99857429e+03 7.00000000e+03]\n",
      "  [6.78979002e-01 7.00330077e-01 6.38512697e-01 ... 2.31353770e-01\n",
      "   1.57578579e-01 1.57870064e-01]]\n",
      "\n",
      " [[4.15000000e+03 4.15142571e+03 4.15285143e+03 ... 6.99714857e+03\n",
      "   6.99857429e+03 7.00000000e+03]\n",
      "  [4.06233360e+00 4.05119367e+00 3.97188513e+00 ... 1.98364851e+00\n",
      "   1.99939373e+00 1.94703085e+00]]]\n"
     ]
    }
   ],
   "source": [
    "data_path = 'data_generated/wave_flux_data.npz'\n",
    "data = np.load(data_path)\n",
    "wave_flux = data['wave_flux_pairs']\n",
    "print(wave_flux)"
   ]
  },
  {
   "cell_type": "code",
   "execution_count": 14,
   "metadata": {},
   "outputs": [
    {
     "name": "stdout",
     "output_type": "stream",
     "text": [
      "[4150.         4151.42571286 4152.85142571 ... 6997.14857429 6998.57428714\n",
      " 7000.        ] [4.65254178 4.68940805 4.66631675 ... 4.24684885 4.3864856  4.24140116]\n"
     ]
    }
   ],
   "source": [
    "wave = wave_flux[0][0, :]\n",
    "flux = wave_flux[0][1, :]\n",
    "print(wave, flux)"
   ]
  },
  {
   "cell_type": "markdown",
   "metadata": {},
   "source": [
    "______________________________________________"
   ]
  },
  {
   "cell_type": "markdown",
   "metadata": {},
   "source": [
    "### generate spec"
   ]
  },
  {
   "cell_type": "code",
   "execution_count": 279,
   "metadata": {},
   "outputs": [],
   "source": [
    "import numpy as np\n",
    "import matplotlib.pyplot as plt\n",
    "from astropy.modeling import models, fitting\n",
    "import torch\n",
    "\n",
    "import sys\n",
    "sys.path.append('../../wuchengzhou')\n",
    "import sagan\n",
    "\n",
    "wave_dict = sagan.utils.line_wave_dict\n",
    "label_dict = sagan.utils.line_label_dict\n",
    "\n",
    "uniform = np.random.uniform\n",
    "normal = np.random.normal"
   ]
  },
  {
   "cell_type": "code",
   "execution_count": 330,
   "metadata": {},
   "outputs": [],
   "source": [
    "def pnormal(mean, stddev):\n",
    "        while True:\n",
    "            value = normal(mean, stddev)\n",
    "            if value >= 0:  # 确保值不为负\n",
    "                return value\n",
    "\n",
    "def generate_continuum(wave):\n",
    "    # Generate random parameters for the power law\n",
    "    amp1 = 10 * np.random.rand()\n",
    "    amp2 = np.random.rand()\n",
    "    alpha = uniform(0, 2)\n",
    "    stddev = uniform(500, 2500)\n",
    "    z = uniform(0, 0.01)\n",
    "    \n",
    "    # Create the model\n",
    "    pl_amps = models.PowerLaw1D(amplitude=amp1, x_0=5500, alpha=alpha, fixed={'x_0': True})\n",
    "    iron = sagan.IronTemplate(amplitude=amp2, stddev=stddev, z=z, name='Fe II')\n",
    "    model = pl_amps + iron\n",
    "    flux = model(wave)\n",
    "    \n",
    "    # Add noise\n",
    "    noise = np.random.normal(0, 0.1, wave.size)\n",
    "    flux += noise\n",
    "    \n",
    "    return flux\n",
    "\n",
    "# narrow Line with 2 components\n",
    "# Hb:2, oIII:2, narrow: 1, Ha: 2\n",
    "def generate_spec(wave, arg_dict):\n",
    "\n",
    "    amp_c0 = arg_dict['line_o3']['amp_c0']\n",
    "    dv_c = arg_dict['line_o3']['dv_c']\n",
    "    sigma_c = arg_dict['line_o3']['sigma_c']\n",
    "    amp_w0 = arg_dict['line_o3']['amp_w0']\n",
    "    dv_w0 = arg_dict['line_o3']['dv_w0']\n",
    "    sigma_w0 = arg_dict['line_o3']['sigma_w0']\n",
    "\n",
    "    line_o3 = sagan.Line_MultiGauss_doublet(n_components=2, amp_c0=amp_c0, amp_c1=0.2, dv_c=dv_c, sigma_c=sigma_c, wavec0=wave_dict['OIII_5007'], wavec1=wave_dict['OIII_4959'], name='[O III]', amp_w0=amp_w0, dv_w0=dv_w0, sigma_w0=sigma_w0)\n",
    "    \n",
    "    def tie_o3(model):\n",
    "        return model['[O III]'].amp_c0 / 2.98\n",
    "    line_o3.amp_c1.tied = tie_o3\n",
    "    \n",
    "    n_ha = sagan.Line_MultiGauss(n_components=1, amp_c=arg_dict['n_ha']['amp_c'], wavec=wave_dict['Halpha'], name=f'narrow {label_dict[\"Halpha\"]}')\n",
    "    n_hb = sagan.Line_MultiGauss(n_components=1, amp_c=arg_dict['n_hb']['amp_c'], wavec=wave_dict['Hbeta'], name=f'narrow {label_dict[\"Hbeta\"]}')\n",
    "    n_hg = sagan.Line_MultiGauss(n_components=1, amp_c=arg_dict['n_hc']['amp_c'], wavec=wave_dict['Hgamma'], name=f'narrow {label_dict[\"Hgamma\"]}')\n",
    "\n",
    "    \n",
    "    b_HeI = sagan.Line_MultiGauss(n_components=1, amp_c=arg_dict['b_HeI']['amp_c'], dv_c=arg_dict['b_HeI']['dv_c'], sigma_c=arg_dict['b_HeI']['sigma_c'], wavec=5875.624, name=f'He I 5876')\n",
    "    \n",
    "    b_ha = sagan.Line_MultiGauss(n_components=2, amp_c=arg_dict['b_ha']['amp_c'], dv_c=arg_dict['b_ha']['dv_c'], sigma_c=arg_dict['b_ha']['sigma_c'], wavec=wave_dict['Halpha'], name=label_dict['Halpha'], amp_w0=arg_dict['b_ha']['amp_w0'], sigma_w0=arg_dict['b_ha']['sigma_w0'], dv_w0=arg_dict['b_ha']['dv_w0'])\n",
    "    b_hb = sagan.Line_MultiGauss(n_components=2, amp_c=arg_dict['b_hb']['amp_c'], dv_c=arg_dict['b_hb']['dv_c'], sigma_c=arg_dict['b_hb']['sigma_c'], wavec=wave_dict['Hbeta'], name=label_dict['Hbeta'], amp_w0=arg_dict['b_hb']['amp_w0'], dv_w0=arg_dict['b_hb']['dv_w0'], sigma_w0=arg_dict['b_hb']['sigma_w0'])\n",
    "    b_hg = sagan.Line_MultiGauss(n_components=1, amp_c=arg_dict['b_hg']['amp_c'], dv_c=arg_dict['b_hg']['dv_c'], sigma_c=arg_dict['b_hg']['sigma_c'], wavec=wave_dict['Hgamma'], name=label_dict['Hgamma'])\n",
    "    \n",
    "    def tie_narrow_sigma_c(model):\n",
    "        return model['[O III]'].sigma_c\n",
    "\n",
    "    def tie_narrow_dv_c(model):\n",
    "        return model['[O III]'].dv_c\n",
    "\n",
    "    for line in [n_ha, n_hb, n_hg]:\n",
    "        line.sigma_c.tied = tie_narrow_sigma_c\n",
    "        line.dv_c.tied = tie_narrow_dv_c\n",
    "    \n",
    "    line_ha = b_ha + n_ha\n",
    "    line_hb = b_hb + n_hb\n",
    "    line_hg = b_hg + n_hg\n",
    "\n",
    "    # def model\n",
    "    model = (line_ha + line_hb + line_hg + line_o3 + b_HeI)\n",
    "    \n",
    "    # Add Gaussian noise\n",
    "    noise = np.random.normal(0, 0.015, wave.size)\n",
    "    \n",
    "    flux = model(wave) + noise\n",
    "    \n",
    "    return flux"
   ]
  },
  {
   "cell_type": "code",
   "execution_count": 370,
   "metadata": {},
   "outputs": [
    {
     "data": {
      "image/png": "[encoded data removed]",
      "text/plain": [
       "<Figure size 640x480 with 1 Axes>"
      ]
     },
     "metadata": {},
     "output_type": "display_data"
    }
   ],
   "source": [
    "wave = np.linspace(4150, 7000, num=1000)\n",
    "\n",
    "arg_dict = {'b_ha': {'amp_c':uniform(1.5, 2.5), 'sigma_c':uniform(1200, 1600), 'dv_c':normal(0, 75), 'amp_w0':uniform(0.05, 0.6), 'dv_w0':normal(0, 400), 'sigma_w0':pnormal(5000, 400)}, 'b_hb': {'amp_c':uniform(0.7, 1.7), 'sigma_c':pnormal(1500, 200), 'dv_c':normal(0, 75), 'amp_w0':uniform(0.05, 0.3), 'dv_w0':normal(0, 100), 'sigma_w0':pnormal(5000, 450)}, 'b_hg': {'amp_c':uniform(0.4, 0.9), 'sigma_c':pnormal(1500, 200), 'dv_c':normal(0, 75)}, 'n_ha':{'amp_c':pnormal(0.1, 0.05)}, 'n_hb':{'amp_c':pnormal(0.1, 0.05)}, 'n_hc':{'amp_c':pnormal(0.1, 0.05)}, 'line_o3': {'amp_c0':pnormal(1, 0.5), 'sigma_c':pnormal(500, 200), 'dv_c':normal(0, 75), 'amp_w0':uniform(0.1, 0.5), 'dv_w0':normal(-100, 100), 'sigma_w0':pnormal(1700, 400)}, 'b_HeI': {'amp_c':pnormal(0.1, 0.08), 'sigma_c':uniform(1400, 1800), 'dv_c':normal(0, 75)}}\n",
    "\n",
    "flux = generate_spec(wave, arg_dict=arg_dict)\n",
    "plt.plot(wave, flux)\n",
    "plt.show()"
   ]
  },
  {
   "cell_type": "code",
   "execution_count": 371,
   "metadata": {},
   "outputs": [
    {
     "ename": "ValueError",
     "evalue": "setting an array element with a sequence. The requested array has an inhomogeneous shape after 2 dimensions. The detected shape was (10000, 3) + inhomogeneous part.",
     "output_type": "error",
     "traceback": [
      "\u001b[1;31m---------------------------------------------------------------------------\u001b[0m",
      "\u001b[1;31mValueError\u001b[0m                                Traceback (most recent call last)",
      "Cell \u001b[1;32mIn[371], line 13\u001b[0m\n\u001b[0;32m     10\u001b[0m     wave_flux_pairs_with_arg\u001b[38;5;241m.\u001b[39mappend((wave, flux, arg_dict))\n\u001b[0;32m     12\u001b[0m \u001b[38;5;66;03m# 保存数据\u001b[39;00m\n\u001b[1;32m---> 13\u001b[0m \u001b[43mnp\u001b[49m\u001b[38;5;241;43m.\u001b[39;49m\u001b[43msavez\u001b[49m\u001b[43m(\u001b[49m\u001b[38;5;124;43m'\u001b[39;49m\u001b[38;5;124;43mdata_generated/wave_flux_data_with_arg.npz\u001b[39;49m\u001b[38;5;124;43m'\u001b[39;49m\u001b[43m,\u001b[49m\u001b[43m \u001b[49m\u001b[43mwave_flux_pairs_with_arg\u001b[49m\u001b[38;5;241;43m=\u001b[39;49m\u001b[43mwave_flux_pairs_with_arg\u001b[49m\u001b[43m)\u001b[49m\n",
      "File \u001b[1;32mf:\\Anaconda\\envs\\sagan\\Lib\\site-packages\\numpy\\lib\\npyio.py:639\u001b[0m, in \u001b[0;36msavez\u001b[1;34m(file, *args, **kwds)\u001b[0m\n\u001b[0;32m    555\u001b[0m \u001b[38;5;129m@array_function_dispatch\u001b[39m(_savez_dispatcher)\n\u001b[0;32m    556\u001b[0m \u001b[38;5;28;01mdef\u001b[39;00m\u001b[38;5;250m \u001b[39m\u001b[38;5;21msavez\u001b[39m(file, \u001b[38;5;241m*\u001b[39margs, \u001b[38;5;241m*\u001b[39m\u001b[38;5;241m*\u001b[39mkwds):\n\u001b[0;32m    557\u001b[0m \u001b[38;5;250m    \u001b[39m\u001b[38;5;124;03m\"\"\"Save several arrays into a single file in uncompressed ``.npz`` format.\u001b[39;00m\n\u001b[0;32m    558\u001b[0m \n\u001b[0;32m    559\u001b[0m \u001b[38;5;124;03m    Provide arrays as keyword arguments to store them under the\u001b[39;00m\n\u001b[1;32m   (...)\u001b[0m\n\u001b[0;32m    637\u001b[0m \n\u001b[0;32m    638\u001b[0m \u001b[38;5;124;03m    \"\"\"\u001b[39;00m\n\u001b[1;32m--> 639\u001b[0m     \u001b[43m_savez\u001b[49m\u001b[43m(\u001b[49m\u001b[43mfile\u001b[49m\u001b[43m,\u001b[49m\u001b[43m \u001b[49m\u001b[43margs\u001b[49m\u001b[43m,\u001b[49m\u001b[43m \u001b[49m\u001b[43mkwds\u001b[49m\u001b[43m,\u001b[49m\u001b[43m \u001b[49m\u001b[38;5;28;43;01mFalse\u001b[39;49;00m\u001b[43m)\u001b[49m\n",
      "File \u001b[1;32mf:\\Anaconda\\envs\\sagan\\Lib\\site-packages\\numpy\\lib\\npyio.py:740\u001b[0m, in \u001b[0;36m_savez\u001b[1;34m(file, args, kwds, compress, allow_pickle, pickle_kwargs)\u001b[0m\n\u001b[0;32m    738\u001b[0m \u001b[38;5;28;01mfor\u001b[39;00m key, val \u001b[38;5;129;01min\u001b[39;00m namedict\u001b[38;5;241m.\u001b[39mitems():\n\u001b[0;32m    739\u001b[0m     fname \u001b[38;5;241m=\u001b[39m key \u001b[38;5;241m+\u001b[39m \u001b[38;5;124m'\u001b[39m\u001b[38;5;124m.npy\u001b[39m\u001b[38;5;124m'\u001b[39m\n\u001b[1;32m--> 740\u001b[0m     val \u001b[38;5;241m=\u001b[39m \u001b[43mnp\u001b[49m\u001b[38;5;241;43m.\u001b[39;49m\u001b[43masanyarray\u001b[49m\u001b[43m(\u001b[49m\u001b[43mval\u001b[49m\u001b[43m)\u001b[49m\n\u001b[0;32m    741\u001b[0m     \u001b[38;5;66;03m# always force zip64, gh-10776\u001b[39;00m\n\u001b[0;32m    742\u001b[0m     \u001b[38;5;28;01mwith\u001b[39;00m zipf\u001b[38;5;241m.\u001b[39mopen(fname, \u001b[38;5;124m'\u001b[39m\u001b[38;5;124mw\u001b[39m\u001b[38;5;124m'\u001b[39m, force_zip64\u001b[38;5;241m=\u001b[39m\u001b[38;5;28;01mTrue\u001b[39;00m) \u001b[38;5;28;01mas\u001b[39;00m fid:\n",
      "\u001b[1;31mValueError\u001b[0m: setting an array element with a sequence. The requested array has an inhomogeneous shape after 2 dimensions. The detected shape was (10000, 3) + inhomogeneous part."
     ]
    }
   ],
   "source": [
    "# 设定参数\n",
    "num_samples = 2500\n",
    "wave_flux_pairs_with_arg = []\n",
    "\n",
    "for _ in range(num_samples):\n",
    "    arg_dict = {\n",
    "                'b_ha': {'amp_c':uniform(1.5, 2.5), 'sigma_c':uniform(1200, 1600), 'dv_c':normal(0, 75), 'amp_w0':uniform(0.05, 0.6), 'dv_w0':normal(0, 400), 'sigma_w0':pnormal(5000, 400)}, \n",
    "                'b_hb': {'amp_c':uniform(0.7, 1.7), 'sigma_c':pnormal(1500, 200), 'dv_c':normal(0, 75), 'amp_w0':uniform(0.05, 0.3), 'dv_w0':normal(0, 100), 'sigma_w0':pnormal(5000, 450)}, \n",
    "                'b_hg': {'amp_c':uniform(0.4, 0.9), 'sigma_c':pnormal(1500, 200), 'dv_c':normal(0, 75)}, \n",
    "                'n_ha':{'amp_c':pnormal(0.1, 0.05)}, \n",
    "                'n_hb':{'amp_c':pnormal(0.1, 0.05)}, \n",
    "                'n_hc':{'amp_c':pnormal(0.1, 0.05)}, \n",
    "                'line_o3': {'amp_c0':pnormal(1, 0.5), 'sigma_c':pnormal(500, 200), 'dv_c':normal(0, 75), 'amp_w0':uniform(0.1, 0.5), 'dv_w0':normal(-100, 100), 'sigma_w0':pnormal(1700, 400)}, \n",
    "                'b_HeI': {'amp_c':pnormal(0.1, 0.08), 'sigma_c':uniform(1400, 1800), 'dv_c':normal(0, 75)}\n",
    "            }\n",
    "    \n",
    "    wave = np.linspace(4150, 7000, num=1000)\n",
    "    flux = generate_spec(wave, arg_dict=arg_dict)\n",
    "    flat_arg_dict = [value for line in arg_dict.values() for value in line.values()]\n",
    "    wave_flux_pairs_with_arg.append((wave, flux, flat_arg_dict))\n",
    "\n",
    "# 保存数据\n",
    "np.savez('data_generated/wave_flux_data_with_arg.npz', wave_flux_pairs_with_arg=wave_flux_pairs_with_arg)"
   ]
  }
 ],
 "metadata": {
  "kernelspec": {
   "display_name": "sagan",
   "language": "python",
   "name": "python3"
  },
  "language_info": {
   "codemirror_mode": {
    "name": "ipython",
    "version": 3
   },
   "file_extension": ".py",
   "mimetype": "text/x-python",
   "name": "python",
   "nbconvert_exporter": "python",
   "pygments_lexer": "ipython3",
   "version": "3.12.8"
  }
 },
 "nbformat": 4,
 "nbformat_minor": 2
}
