{
 "cells": [
  {
   "cell_type": "markdown",
   "metadata": {},
   "source": [
    "### import packages"
   ]
  },
  {
   "cell_type": "code",
   "execution_count": 1,
   "metadata": {},
   "outputs": [],
   "source": [
    "import numpy as np\n",
    "import matplotlib.pyplot as plt\n",
    "from astropy.modeling import models, fitting\n",
    "import torch\n",
    "import torch.nn.functional as F\n",
    "import torch.optim as optim\n",
    "from torch import nn\n",
    "from torch.utils.data import DataLoader, TensorDataset, random_split\n",
    "from tqdm import tqdm\n",
    "\n",
    "import sys\n",
    "sys.path.append('../../wuchengzhou')\n",
    "import sagan\n",
    "\n",
    "wave_dict = sagan.utils.line_wave_dict\n",
    "label_dict = sagan.utils.line_label_dict\n",
    "\n",
    "uniform = np.random.uniform\n",
    "normal = np.random.normal"
   ]
  },
  {
   "cell_type": "markdown",
   "metadata": {},
   "source": [
    "### def spec_gen functions"
   ]
  },
  {
   "cell_type": "code",
   "execution_count": 2,
   "metadata": {},
   "outputs": [],
   "source": [
    "def pnormal(mean, stddev):\n",
    "        while True:\n",
    "            value = normal(mean, stddev)\n",
    "            if value >= 0:  # 确保值不为负\n",
    "                return value\n",
    "\n",
    "def generate_continuum(wave):\n",
    "    # Generate random parameters for the power law\n",
    "    amp1 = 10 * np.random.rand()\n",
    "    amp2 = np.random.rand()\n",
    "    alpha = uniform(0, 2)\n",
    "    stddev = uniform(500, 2500)\n",
    "    z = uniform(0, 0.01)\n",
    "    \n",
    "    # Create the model\n",
    "    pl_amps = models.PowerLaw1D(amplitude=amp1, x_0=5500, alpha=alpha, fixed={'x_0': True})\n",
    "    iron = sagan.IronTemplate(amplitude=amp2, stddev=stddev, z=z, name='Fe II')\n",
    "    model = pl_amps + iron\n",
    "    flux = model(wave)\n",
    "    \n",
    "    # Add noise\n",
    "    noise = np.random.normal(0, 0.1, wave.size)\n",
    "    flux += noise\n",
    "    \n",
    "    return flux\n",
    "\n",
    "# narrow Line with 2 components\n",
    "# Hb:2, oIII:2, narrow: 1, Ha: 2\n",
    "def generate_spec(wave, arg_dict):\n",
    "\n",
    "    amp_c0 = arg_dict['line_o3']['amp_c0']\n",
    "    dv_c = arg_dict['line_o3']['dv_c']\n",
    "    sigma_c = arg_dict['line_o3']['sigma_c']\n",
    "    amp_w0 = arg_dict['line_o3']['amp_w0']\n",
    "    dv_w0 = arg_dict['line_o3']['dv_w0']\n",
    "    sigma_w0 = arg_dict['line_o3']['sigma_w0']\n",
    "\n",
    "    line_o3 = sagan.Line_MultiGauss_doublet(n_components=2, amp_c0=amp_c0, amp_c1=0.2, dv_c=dv_c, sigma_c=sigma_c, wavec0=wave_dict['OIII_5007'], wavec1=wave_dict['OIII_4959'], name='[O III]', amp_w0=amp_w0, dv_w0=dv_w0, sigma_w0=sigma_w0)\n",
    "    \n",
    "    def tie_o3(model):\n",
    "        return model['[O III]'].amp_c0 / 2.98\n",
    "    line_o3.amp_c1.tied = tie_o3\n",
    "    \n",
    "    n_ha = sagan.Line_MultiGauss(n_components=1, amp_c=arg_dict['n_ha']['amp_c'], wavec=wave_dict['Halpha'], name=f'narrow {label_dict[\"Halpha\"]}')\n",
    "    n_hb = sagan.Line_MultiGauss(n_components=1, amp_c=arg_dict['n_hb']['amp_c'], wavec=wave_dict['Hbeta'], name=f'narrow {label_dict[\"Hbeta\"]}')\n",
    "    n_hg = sagan.Line_MultiGauss(n_components=1, amp_c=arg_dict['n_hc']['amp_c'], wavec=wave_dict['Hgamma'], name=f'narrow {label_dict[\"Hgamma\"]}')\n",
    "\n",
    "    \n",
    "    b_HeI = sagan.Line_MultiGauss(n_components=1, amp_c=arg_dict['b_HeI']['amp_c'], dv_c=arg_dict['b_HeI']['dv_c'], sigma_c=arg_dict['b_HeI']['sigma_c'], wavec=5875.624, name=f'He I 5876')\n",
    "    \n",
    "    b_ha = sagan.Line_MultiGauss(n_components=2, amp_c=arg_dict['b_ha']['amp_c'], dv_c=arg_dict['b_ha']['dv_c'], sigma_c=arg_dict['b_ha']['sigma_c'], wavec=wave_dict['Halpha'], name=label_dict['Halpha'], amp_w0=arg_dict['b_ha']['amp_w0'], sigma_w0=arg_dict['b_ha']['sigma_w0'], dv_w0=arg_dict['b_ha']['dv_w0'])\n",
    "    b_hb = sagan.Line_MultiGauss(n_components=2, amp_c=arg_dict['b_hb']['amp_c'], dv_c=arg_dict['b_hb']['dv_c'], sigma_c=arg_dict['b_hb']['sigma_c'], wavec=wave_dict['Hbeta'], name=label_dict['Hbeta'], amp_w0=arg_dict['b_hb']['amp_w0'], dv_w0=arg_dict['b_hb']['dv_w0'], sigma_w0=arg_dict['b_hb']['sigma_w0'])\n",
    "    b_hg = sagan.Line_MultiGauss(n_components=1, amp_c=arg_dict['b_hg']['amp_c'], dv_c=arg_dict['b_hg']['dv_c'], sigma_c=arg_dict['b_hg']['sigma_c'], wavec=wave_dict['Hgamma'], name=label_dict['Hgamma'])\n",
    "    \n",
    "    def tie_narrow_sigma_c(model):\n",
    "        return model['[O III]'].sigma_c\n",
    "\n",
    "    def tie_narrow_dv_c(model):\n",
    "        return model['[O III]'].dv_c\n",
    "\n",
    "    for line in [n_ha, n_hb, n_hg]:\n",
    "        line.sigma_c.tied = tie_narrow_sigma_c\n",
    "        line.dv_c.tied = tie_narrow_dv_c\n",
    "    \n",
    "    line_ha = b_ha + n_ha\n",
    "    line_hb = b_hb + n_hb\n",
    "    line_hg = b_hg + n_hg\n",
    "\n",
    "    # def model\n",
    "    model = (line_ha + line_hb + line_hg + line_o3 + b_HeI)\n",
    "    \n",
    "    # Add Gaussian noise\n",
    "    noise = np.random.normal(0, 0.015, wave.size)\n",
    "    \n",
    "    flux = model(wave) + noise\n",
    "    \n",
    "    return flux"
   ]
  },
  {
   "cell_type": "markdown",
   "metadata": {},
   "source": [
    "### def neural network"
   ]
  },
  {
   "cell_type": "code",
   "execution_count": 3,
   "metadata": {},
   "outputs": [],
   "source": [
    "class CNN1(nn.Module):\n",
    "    def __init__(self, input_height=2, input_width=1000, output_dim=27):\n",
    "        super(CNN1, self).__init__()\n",
    "        # 输入为2×n的矩阵，假设n=100（可以根据实际情况调整）\n",
    "        self.conv1 = nn.Conv2d(1, 16, kernel_size=(1, 21), padding=(0, 10))  # 输入通道1，输出通道16\n",
    "        self.conv2 = nn.Conv2d(16, 32, kernel_size=(1, 21), padding=(0, 10))  # 输入通道16，输出通道32\n",
    "        self.conv3 = nn.Conv2d(32, 64, kernel_size=(1, 21), padding=(0, 10))  # 输入通道32，输出通道64\n",
    "        self.pool = nn.MaxPool2d(kernel_size=(1, 2), stride=(1, 2))         # 池化层\n",
    "        # 计算全连接层的输入维度\n",
    "        self.fc_input_dim = self._calculate_fc_input_dim(input_height, input_width)\n",
    "        self.fc1 = nn.Linear(self.fc_input_dim, 128)\n",
    "        self.bn1 = nn.BatchNorm1d(128)\n",
    "        self.fc2 = nn.Linear(128, 64)\n",
    "        self.bn2 = nn.BatchNorm1d(64)\n",
    "        self.fc3 = nn.Linear(64, output_dim)\n",
    "\n",
    "    def forward(self, x):\n",
    "        # 假设输入x的维度为[batch_size, 1, 2, n]\n",
    "        x = F.relu(self.conv1(x))\n",
    "        x = self.pool(x)\n",
    "        x = F.relu(self.conv2(x))\n",
    "        x = self.pool(x)\n",
    "        x = F.relu(self.conv3(x))\n",
    "        x = self.pool(x)\n",
    "        x = x.view(x.size(0), -1)  # 展平操作\n",
    "        x = F.relu(self.fc1(x))\n",
    "        x = self.bn1(x)\n",
    "        x = F.relu(self.fc2(x))\n",
    "        x = self.bn2(x)\n",
    "        x = self.fc3(x)\n",
    "        return x\n",
    "\n",
    "    def _calculate_fc_input_dim(self, input_height, input_width):\n",
    "        # 计算卷积层和池化层后的特征图尺寸\n",
    "        with torch.no_grad():\n",
    "            dummy_input = torch.zeros(1, 1, input_height, input_width)\n",
    "            dummy_output = self.pool(F.relu(self.conv3(self.pool(F.relu(self.conv2(self.pool(F.relu(self.conv1(dummy_input)))))))))\n",
    "            return dummy_output.numel()"
   ]
  },
  {
   "cell_type": "markdown",
   "metadata": {},
   "source": [
    "### def training process"
   ]
  },
  {
   "cell_type": "code",
   "execution_count": 4,
   "metadata": {},
   "outputs": [],
   "source": [
    "def calculate_accuracy(model, dataloader):\n",
    "    model.eval()\n",
    "    total_correct = 0\n",
    "    total_samples = 0\n",
    "    with torch.no_grad():\n",
    "        for inputs, targets in dataloader:\n",
    "            outputs = model(inputs)\n",
    "            # 假设准确率的计算方式为预测值与目标值的均方误差小于某个阈值\n",
    "            mse = ((outputs - targets) ** 2).mean(dim=1)\n",
    "            correct = (mse < 0.1).sum().item()  # 阈值可以根据实际情况调整\n",
    "            total_correct += correct\n",
    "            total_samples += inputs.size(0)\n",
    "    accuracy = total_correct / total_samples\n",
    "    return accuracy\n",
    "\n",
    "def train_model(model, train_loader, test_loader, criterion, optimizer, num_epochs=10):\n",
    "    train_losses = []\n",
    "    train_accuracies = []\n",
    "    test_accuracies = []\n",
    "    for epoch in range(num_epochs):\n",
    "        model.train()\n",
    "        epoch_loss = 0\n",
    "        for inputs, targets in tqdm(train_loader, desc=f\"Epoch {epoch+1}/{num_epochs}\"):\n",
    "            optimizer.zero_grad()\n",
    "            outputs = model(inputs)\n",
    "            loss = criterion(outputs, targets)\n",
    "            loss.backward()\n",
    "            optimizer.step()\n",
    "            epoch_loss += loss.item()\n",
    "        avg_loss = epoch_loss / len(train_loader)\n",
    "        train_losses.append(avg_loss)\n",
    "        # 计算训练集和测试集上的准确率\n",
    "        train_accuracy = calculate_accuracy(model, train_loader)\n",
    "        test_accuracy = calculate_accuracy(model, test_loader)\n",
    "        train_accuracies.append(train_accuracy)\n",
    "        test_accuracies.append(test_accuracy)\n",
    "        print(f\"Epoch [{epoch+1}/{num_epochs}], Loss: {avg_loss:.4f}, Train Accuracy: {train_accuracy:.4f}, Test Accuracy: {test_accuracy:.4f}\")\n",
    "    return train_losses, train_accuracies, test_accuracies\n",
    "\n",
    "def plot_training_curve(train_losses, train_accuracies, test_accuracies):\n",
    "    plt.figure(figsize=(12, 4))\n",
    "    plt.subplot(1, 2, 1)\n",
    "    plt.plot(train_losses, label=\"Training Loss\")\n",
    "    plt.xlabel(\"Epoch\")\n",
    "    plt.ylabel(\"Loss\")\n",
    "    plt.title(\"Training Loss Curve\")\n",
    "    plt.legend()\n",
    "    plt.subplot(1, 2, 2)\n",
    "    plt.plot(train_accuracies, label=\"Train Accuracy\")\n",
    "    plt.plot(test_accuracies, label=\"Test Accuracy\")\n",
    "    plt.xlabel(\"Epoch\")\n",
    "    plt.ylabel(\"Accuracy\")\n",
    "    plt.title(\"Accuracy Curve\")\n",
    "    plt.legend()\n",
    "    plt.show()"
   ]
  },
  {
   "cell_type": "code",
   "execution_count": 5,
   "metadata": {},
   "outputs": [
    {
     "name": "stdout",
     "output_type": "stream",
     "text": [
      "torch.Size([200, 1, 2, 1000])\n",
      "torch.Size([200, 27])\n"
     ]
    }
   ],
   "source": [
    "def generate_data(num_samples=200, input_width=1000):\n",
    "    X_list = []\n",
    "    y_list = []\n",
    "    \n",
    "    for _ in range(num_samples):\n",
    "        arg_dict = {\n",
    "                    'b_ha': {'amp_c':uniform(1.5, 2.5), 'sigma_c':uniform(1200, 1600), 'dv_c':normal(0, 75), 'amp_w0':uniform(0.05, 0.6), 'dv_w0':normal(0, 400), 'sigma_w0':pnormal(5000, 400)}, \n",
    "                    'b_hb': {'amp_c':uniform(0.7, 1.7), 'sigma_c':pnormal(1500, 200), 'dv_c':normal(0, 75), 'amp_w0':uniform(0.05, 0.3), 'dv_w0':normal(0, 100), 'sigma_w0':pnormal(5000, 450)}, \n",
    "                    'b_hg': {'amp_c':uniform(0.4, 0.9), 'sigma_c':pnormal(1500, 200), 'dv_c':normal(0, 75)}, \n",
    "                    'n_ha':{'amp_c':pnormal(0.1, 0.05)}, \n",
    "                    'n_hb':{'amp_c':pnormal(0.1, 0.05)}, \n",
    "                    'n_hc':{'amp_c':pnormal(0.1, 0.05)}, \n",
    "                    'line_o3': {'amp_c0':pnormal(1, 0.5), 'sigma_c':pnormal(500, 200), 'dv_c':normal(0, 75), 'amp_w0':uniform(0.1, 0.5), 'dv_w0':normal(-100, 100), 'sigma_w0':pnormal(1700, 400)}, \n",
    "                    'b_HeI': {'amp_c':pnormal(0.1, 0.08), 'sigma_c':uniform(1400, 1800), 'dv_c':normal(0, 75)}\n",
    "                }\n",
    "        wave = np.linspace(4150, 7000, input_width)\n",
    "        flux = generate_spec(wave, arg_dict=arg_dict)\n",
    "        data = np.stack((wave, flux), axis=0)\n",
    "        X_list.append(torch.tensor(data, dtype=torch.float32).view(1, 2, input_width))\n",
    "        arg_list = [value for line in arg_dict.values() for value in line.values()]\n",
    "        y_list.append(torch.tensor(arg_list, dtype=torch.float32))\n",
    "\n",
    "    X = torch.cat(X_list, dim=0).reshape(num_samples, 1, 2, input_width)\n",
    "    y = torch.stack(y_list)\n",
    "\n",
    "    return X, y\n",
    "\n",
    "if __name__ == \"__main__\":\n",
    "    X, y = generate_data(200, 1000)\n",
    "    print(X.shape)\n",
    "    print(y.shape)\n"
   ]
  },
  {
   "cell_type": "markdown",
   "metadata": {},
   "source": [
    "### training"
   ]
  },
  {
   "cell_type": "code",
   "execution_count": 8,
   "metadata": {},
   "outputs": [
    {
     "name": "stderr",
     "output_type": "stream",
     "text": [
      "Epoch 1/15: 100%|██████████| 75/75 [00:03<00:00, 21.18it/s]\n",
      "Epoch 2/15:   4%|▍         | 3/75 [00:00<00:03, 21.04it/s]"
     ]
    },
    {
     "name": "stdout",
     "output_type": "stream",
     "text": [
      "Epoch [1/15], Loss: 2337250.6300, Train Accuracy: 0.0000, Test Accuracy: 0.0000\n"
     ]
    },
    {
     "name": "stderr",
     "output_type": "stream",
     "text": [
      "Epoch 2/15: 100%|██████████| 75/75 [00:03<00:00, 21.31it/s]\n",
      "Epoch 3/15:   4%|▍         | 3/75 [00:00<00:03, 22.06it/s]"
     ]
    },
    {
     "name": "stdout",
     "output_type": "stream",
     "text": [
      "Epoch [2/15], Loss: 2334957.1133, Train Accuracy: 0.0000, Test Accuracy: 0.0000\n"
     ]
    },
    {
     "name": "stderr",
     "output_type": "stream",
     "text": [
      "Epoch 3/15: 100%|██████████| 75/75 [00:03<00:00, 21.28it/s]\n",
      "Epoch 4/15:   4%|▍         | 3/75 [00:00<00:03, 21.08it/s]"
     ]
    },
    {
     "name": "stdout",
     "output_type": "stream",
     "text": [
      "Epoch [3/15], Loss: 2329915.3467, Train Accuracy: 0.0000, Test Accuracy: 0.0000\n"
     ]
    },
    {
     "name": "stderr",
     "output_type": "stream",
     "text": [
      "Epoch 4/15: 100%|██████████| 75/75 [00:03<00:00, 21.11it/s]\n",
      "Epoch 5/15:   4%|▍         | 3/75 [00:00<00:03, 20.88it/s]"
     ]
    },
    {
     "name": "stdout",
     "output_type": "stream",
     "text": [
      "Epoch [4/15], Loss: 2322140.3567, Train Accuracy: 0.0000, Test Accuracy: 0.0000\n"
     ]
    },
    {
     "name": "stderr",
     "output_type": "stream",
     "text": [
      "Epoch 5/15: 100%|██████████| 75/75 [00:03<00:00, 21.26it/s]\n",
      "Epoch 6/15:   4%|▍         | 3/75 [00:00<00:03, 21.43it/s]"
     ]
    },
    {
     "name": "stdout",
     "output_type": "stream",
     "text": [
      "Epoch [5/15], Loss: 2311830.9033, Train Accuracy: 0.0000, Test Accuracy: 0.0000\n"
     ]
    },
    {
     "name": "stderr",
     "output_type": "stream",
     "text": [
      "Epoch 6/15: 100%|██████████| 75/75 [00:03<00:00, 21.22it/s]\n",
      "Epoch 7/15:   4%|▍         | 3/75 [00:00<00:03, 21.24it/s]"
     ]
    },
    {
     "name": "stdout",
     "output_type": "stream",
     "text": [
      "Epoch [6/15], Loss: 2299063.0833, Train Accuracy: 0.0000, Test Accuracy: 0.0000\n"
     ]
    },
    {
     "name": "stderr",
     "output_type": "stream",
     "text": [
      "Epoch 7/15: 100%|██████████| 75/75 [00:03<00:00, 21.27it/s]\n",
      "Epoch 8/15:   4%|▍         | 3/75 [00:00<00:03, 21.24it/s]"
     ]
    },
    {
     "name": "stdout",
     "output_type": "stream",
     "text": [
      "Epoch [7/15], Loss: 2283800.8000, Train Accuracy: 0.0000, Test Accuracy: 0.0000\n"
     ]
    },
    {
     "name": "stderr",
     "output_type": "stream",
     "text": [
      "Epoch 8/15: 100%|██████████| 75/75 [00:03<00:00, 21.22it/s]\n",
      "Epoch 9/15:   4%|▍         | 3/75 [00:00<00:03, 20.86it/s]"
     ]
    },
    {
     "name": "stdout",
     "output_type": "stream",
     "text": [
      "Epoch [8/15], Loss: 2266402.5700, Train Accuracy: 0.0000, Test Accuracy: 0.0000\n"
     ]
    },
    {
     "name": "stderr",
     "output_type": "stream",
     "text": [
      "Epoch 9/15: 100%|██████████| 75/75 [00:03<00:00, 21.20it/s]\n",
      "Epoch 10/15:   4%|▍         | 3/75 [00:00<00:03, 20.89it/s]"
     ]
    },
    {
     "name": "stdout",
     "output_type": "stream",
     "text": [
      "Epoch [9/15], Loss: 2246963.9467, Train Accuracy: 0.0000, Test Accuracy: 0.0000\n"
     ]
    },
    {
     "name": "stderr",
     "output_type": "stream",
     "text": [
      "Epoch 10/15: 100%|██████████| 75/75 [00:03<00:00, 21.22it/s]\n",
      "Epoch 11/15:   4%|▍         | 3/75 [00:00<00:03, 21.50it/s]"
     ]
    },
    {
     "name": "stdout",
     "output_type": "stream",
     "text": [
      "Epoch [10/15], Loss: 2225619.1400, Train Accuracy: 0.0000, Test Accuracy: 0.0000\n"
     ]
    },
    {
     "name": "stderr",
     "output_type": "stream",
     "text": [
      "Epoch 11/15: 100%|██████████| 75/75 [00:03<00:00, 21.42it/s]\n",
      "Epoch 12/15:   4%|▍         | 3/75 [00:00<00:03, 20.92it/s]"
     ]
    },
    {
     "name": "stdout",
     "output_type": "stream",
     "text": [
      "Epoch [11/15], Loss: 2202727.6133, Train Accuracy: 0.0000, Test Accuracy: 0.0000\n"
     ]
    },
    {
     "name": "stderr",
     "output_type": "stream",
     "text": [
      "Epoch 12/15: 100%|██████████| 75/75 [00:03<00:00, 20.93it/s]\n",
      "Epoch 13/15:   3%|▎         | 2/75 [00:00<00:03, 18.54it/s]"
     ]
    },
    {
     "name": "stdout",
     "output_type": "stream",
     "text": [
      "Epoch [12/15], Loss: 2177872.8750, Train Accuracy: 0.0000, Test Accuracy: 0.0000\n"
     ]
    },
    {
     "name": "stderr",
     "output_type": "stream",
     "text": [
      "Epoch 13/15: 100%|██████████| 75/75 [00:03<00:00, 21.25it/s]\n",
      "Epoch 14/15:   4%|▍         | 3/75 [00:00<00:03, 21.58it/s]"
     ]
    },
    {
     "name": "stdout",
     "output_type": "stream",
     "text": [
      "Epoch [13/15], Loss: 2151250.8267, Train Accuracy: 0.0000, Test Accuracy: 0.0000\n"
     ]
    },
    {
     "name": "stderr",
     "output_type": "stream",
     "text": [
      "Epoch 14/15: 100%|██████████| 75/75 [00:03<00:00, 21.10it/s]\n",
      "Epoch 15/15:   4%|▍         | 3/75 [00:00<00:03, 21.68it/s]"
     ]
    },
    {
     "name": "stdout",
     "output_type": "stream",
     "text": [
      "Epoch [14/15], Loss: 2123316.6800, Train Accuracy: 0.0000, Test Accuracy: 0.0000\n"
     ]
    },
    {
     "name": "stderr",
     "output_type": "stream",
     "text": [
      "Epoch 15/15: 100%|██████████| 75/75 [00:03<00:00, 20.83it/s]\n"
     ]
    },
    {
     "name": "stdout",
     "output_type": "stream",
     "text": [
      "Epoch [15/15], Loss: 2094043.6850, Train Accuracy: 0.0000, Test Accuracy: 0.0000\n"
     ]
    },
    {
     "data": {
      "image/png": "[encoded data removed]",
      "text/plain": [
       "<Figure size 1200x400 with 2 Axes>"
      ]
     },
     "metadata": {},
     "output_type": "display_data"
    },
    {
     "name": "stdout",
     "output_type": "stream",
     "text": [
      "Model saved to ./model/cnn1.pth\n"
     ]
    }
   ],
   "source": [
    "if __name__ == \"__main__\":\n",
    "    # 超参数\n",
    "    input_height = 2\n",
    "    input_width = 1000\n",
    "    output_dim = 27\n",
    "    num_samples = 3000\n",
    "    batch_size = 32\n",
    "    num_epochs = 15\n",
    "    learning_rate = 0.001\n",
    "\n",
    "    X, y = generate_data(num_samples, input_width)\n",
    "    dataset = TensorDataset(X, y)\n",
    "    train_size = int(0.8 * num_samples)\n",
    "    test_size = num_samples - train_size\n",
    "    train_dataset, test_dataset = random_split(dataset, [train_size, test_size])\n",
    "    train_loader = DataLoader(train_dataset, batch_size=batch_size, shuffle=True)\n",
    "    test_loader = DataLoader(test_dataset, batch_size=batch_size, shuffle=False)\n",
    "\n",
    "    # 初始化模型、损失函数和优化器\n",
    "    model = CNN1(input_height, input_width, output_dim)\n",
    "    criterion = nn.MSELoss()  # 均方误差损失函数\n",
    "    optimizer = optim.Adam(model.parameters(), lr=learning_rate)\n",
    "\n",
    "    # 训练模型\n",
    "    train_losses, train_accuracies, test_accuracies = train_model(model, train_loader, test_loader, criterion,\n",
    "                                                                  optimizer, num_epochs)\n",
    "\n",
    "    # 绘制训练过程\n",
    "    plot_training_curve(train_losses, train_accuracies, test_accuracies)\n",
    "\n",
    "    # 保存模型\n",
    "    torch.save(model.state_dict(), \"./model/cnn1.pth\")\n",
    "    print(\"Model saved to ./model/cnn1.pth\")\n",
    "\n",
    "    # 加载模型并测试\n",
    "    model.load_state_dict(torch.load(\"./model/cnn1.pth\"))\n",
    "    test_accuracy = calculate_accuracy(model, test_loader)"
   ]
  }
 ],
 "metadata": {
  "kernelspec": {
   "display_name": "sagan",
   "language": "python",
   "name": "python3"
  },
  "language_info": {
   "codemirror_mode": {
    "name": "ipython",
    "version": 3
   },
   "file_extension": ".py",
   "mimetype": "text/x-python",
   "name": "python",
   "nbconvert_exporter": "python",
   "pygments_lexer": "ipython3",
   "version": "3.12.8"
  }
 },
 "nbformat": 4,
 "nbformat_minor": 2
}
