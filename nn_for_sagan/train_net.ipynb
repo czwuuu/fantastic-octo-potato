{
 "cells": [
  {
   "cell_type": "markdown",
   "metadata": {},
   "source": [
    "### import packages"
   ]
  },
  {
   "cell_type": "code",
   "execution_count": 1,
   "metadata": {},
   "outputs": [],
   "source": [
    "import numpy as np\n",
    "import matplotlib.pyplot as plt\n",
    "from astropy.modeling import models, fitting\n",
    "import torch\n",
    "import torch.nn.functional as F\n",
    "import torch.optim as optim\n",
    "from torch import nn\n",
    "from torch.utils.data import DataLoader, TensorDataset, random_split\n",
    "from tqdm import tqdm\n",
    "\n",
    "import sys\n",
    "sys.path.append('../../wuchengzhou')\n",
    "import sagan\n",
    "\n",
    "wave_dict = sagan.utils.line_wave_dict\n",
    "label_dict = sagan.utils.line_label_dict\n",
    "\n",
    "uniform = np.random.uniform\n",
    "normal = np.random.normal\n",
    "\n",
    "device = torch.device(\"cuda\" if torch.cuda.is_available() else \"cpu\")\n"
   ]
  },
  {
   "cell_type": "markdown",
   "metadata": {},
   "source": [
    "### def spec_gen functions"
   ]
  },
  {
   "cell_type": "code",
   "execution_count": 2,
   "metadata": {},
   "outputs": [],
   "source": [
    "def pnormal(mean, stddev):\n",
    "    while True:\n",
    "        value = normal(mean, stddev)\n",
    "        if value >= 0:  # 确保值不为负\n",
    "            return value\n",
    "\n",
    "def generate_continuum(wave):\n",
    "    # Generate random parameters for the power law\n",
    "    amp1 = 10 * np.random.rand()\n",
    "    amp2 = np.random.rand()\n",
    "    alpha = uniform(0, 2)\n",
    "    stddev = uniform(500, 2500)\n",
    "    z = uniform(0, 0.01)\n",
    "    \n",
    "    # Create the model\n",
    "    pl_amps = models.PowerLaw1D(amplitude=amp1, x_0=5500, alpha=alpha, fixed={'x_0': True})\n",
    "    iron = sagan.IronTemplate(amplitude=amp2, stddev=stddev, z=z, name='Fe II')\n",
    "    model = pl_amps + iron\n",
    "    flux = model(wave)\n",
    "    \n",
    "    # Add noise\n",
    "    noise = np.random.normal(0, 0.1, wave.size)\n",
    "    flux += noise\n",
    "    \n",
    "    return flux\n",
    "\n",
    "# narrow Line with 2 components\n",
    "# Hb:2, oIII:2, narrow: 1, Ha: 2\n",
    "def generate_spec(wave, arg_dict):\n",
    "\n",
    "    amp_c0 = arg_dict['line_o3']['amp_c0']\n",
    "    dv_c = arg_dict['line_o3']['dv_c']\n",
    "    sigma_c = arg_dict['line_o3']['sigma_c']\n",
    "    amp_w0 = arg_dict['line_o3']['amp_w0']\n",
    "    dv_w0 = arg_dict['line_o3']['dv_w0']\n",
    "    sigma_w0 = arg_dict['line_o3']['sigma_w0']\n",
    "\n",
    "    line_o3 = sagan.Line_MultiGauss_doublet(n_components=2, amp_c0=amp_c0, amp_c1=0.2, dv_c=dv_c, sigma_c=sigma_c, wavec0=wave_dict['OIII_5007'], wavec1=wave_dict['OIII_4959'], name='[O III]', amp_w0=amp_w0, dv_w0=dv_w0, sigma_w0=sigma_w0)\n",
    "    \n",
    "    def tie_o3(model):\n",
    "        return model['[O III]'].amp_c0 / 2.98\n",
    "    line_o3.amp_c1.tied = tie_o3\n",
    "    \n",
    "    n_ha = sagan.Line_MultiGauss(n_components=1, amp_c=arg_dict['n_ha']['amp_c'], wavec=wave_dict['Halpha'], name=f'narrow {label_dict[\"Halpha\"]}')\n",
    "    n_hb = sagan.Line_MultiGauss(n_components=1, amp_c=arg_dict['n_hb']['amp_c'], wavec=wave_dict['Hbeta'], name=f'narrow {label_dict[\"Hbeta\"]}')\n",
    "    n_hg = sagan.Line_MultiGauss(n_components=1, amp_c=arg_dict['n_hc']['amp_c'], wavec=wave_dict['Hgamma'], name=f'narrow {label_dict[\"Hgamma\"]}')\n",
    "\n",
    "    \n",
    "    b_HeI = sagan.Line_MultiGauss(n_components=1, amp_c=arg_dict['b_HeI']['amp_c'], dv_c=arg_dict['b_HeI']['dv_c'], sigma_c=arg_dict['b_HeI']['sigma_c'], wavec=5875.624, name=f'He I 5876')\n",
    "    \n",
    "    b_ha = sagan.Line_MultiGauss(n_components=2, amp_c=arg_dict['b_ha']['amp_c'], dv_c=arg_dict['b_ha']['dv_c'], sigma_c=arg_dict['b_ha']['sigma_c'], wavec=wave_dict['Halpha'], name=label_dict['Halpha'], amp_w0=arg_dict['b_ha']['amp_w0'], sigma_w0=arg_dict['b_ha']['sigma_w0'], dv_w0=arg_dict['b_ha']['dv_w0'])\n",
    "    b_hb = sagan.Line_MultiGauss(n_components=2, amp_c=arg_dict['b_hb']['amp_c'], dv_c=arg_dict['b_hb']['dv_c'], sigma_c=arg_dict['b_hb']['sigma_c'], wavec=wave_dict['Hbeta'], name=label_dict['Hbeta'], amp_w0=arg_dict['b_hb']['amp_w0'], dv_w0=arg_dict['b_hb']['dv_w0'], sigma_w0=arg_dict['b_hb']['sigma_w0'])\n",
    "    b_hg = sagan.Line_MultiGauss(n_components=1, amp_c=arg_dict['b_hg']['amp_c'], dv_c=arg_dict['b_hg']['dv_c'], sigma_c=arg_dict['b_hg']['sigma_c'], wavec=wave_dict['Hgamma'], name=label_dict['Hgamma'])\n",
    "    \n",
    "    def tie_narrow_sigma_c(model):\n",
    "        return model['[O III]'].sigma_c\n",
    "\n",
    "    def tie_narrow_dv_c(model):\n",
    "        return model['[O III]'].dv_c\n",
    "\n",
    "    for line in [n_ha, n_hb, n_hg]:\n",
    "        line.sigma_c.tied = tie_narrow_sigma_c\n",
    "        line.dv_c.tied = tie_narrow_dv_c\n",
    "    \n",
    "    line_ha = b_ha + n_ha\n",
    "    line_hb = b_hb + n_hb\n",
    "    line_hg = b_hg + n_hg\n",
    "\n",
    "    # def model\n",
    "    model = (line_ha + line_hb + line_hg + line_o3 + b_HeI)\n",
    "    \n",
    "    # Add Gaussian noise\n",
    "    noise = np.random.normal(0, 0.015, wave.size)\n",
    "    \n",
    "    flux = model(wave) + noise\n",
    "    \n",
    "    return flux"
   ]
  },
  {
   "cell_type": "markdown",
   "metadata": {},
   "source": [
    "### def neural network"
   ]
  },
  {
   "cell_type": "code",
   "execution_count": 3,
   "metadata": {},
   "outputs": [],
   "source": [
    "class CNN1(nn.Module):\n",
    "    def __init__(self, input_height=2, input_width=1000, output_dim=27):\n",
    "        super(CNN1, self).__init__()\n",
    "        # 输入为2×n的矩阵，假设n=100（可以根据实际情况调整）\n",
    "        self.conv1 = nn.Conv2d(1, 16, kernel_size=(1, 21), padding=(0, 10))  # 输入通道1，输出通道16\n",
    "        self.conv2 = nn.Conv2d(16, 32, kernel_size=(1, 21), padding=(0, 10))  # 输入通道16，输出通道32\n",
    "        self.conv3 = nn.Conv2d(32, 64, kernel_size=(1, 21), padding=(0, 10))  # 输入通道32，输出通道64\n",
    "        self.pool = nn.MaxPool2d(kernel_size=(1, 2), stride=(1, 2))         # 池化层\n",
    "        # 计算全连接层的输入维度\n",
    "        self.fc_input_dim = self._calculate_fc_input_dim(input_height, input_width)\n",
    "        self.fc1 = nn.Linear(self.fc_input_dim, 128)\n",
    "        self.bn1 = nn.BatchNorm1d(128)\n",
    "        self.fc2 = nn.Linear(128, 64)\n",
    "        self.bn2 = nn.BatchNorm1d(64)\n",
    "        self.fc3 = nn.Linear(64, output_dim)\n",
    "\n",
    "    def forward(self, x):\n",
    "        # 假设输入x的维度为[batch_size, 1, 2, n]\n",
    "        \n",
    "        x = F.relu(self.conv1(x))\n",
    "        x = self.pool(x)\n",
    "        x = F.relu(self.conv2(x))\n",
    "        x = self.pool(x)\n",
    "        x = F.relu(self.conv3(x))\n",
    "        x = self.pool(x)\n",
    "        x = x.view(x.size(0), -1)  # 展平操作\n",
    "        x = F.relu(self.fc1(x))\n",
    "        x = self.bn1(x)\n",
    "        x = F.relu(self.fc2(x))\n",
    "        x = self.bn2(x)\n",
    "        x = self.fc3(x)\n",
    "        return x\n",
    "\n",
    "    def _calculate_fc_input_dim(self, input_height, input_width):\n",
    "        # 计算卷积层和池化层后的特征图尺寸\n",
    "        with torch.no_grad():\n",
    "            dummy_input = torch.zeros(1, 1, input_height, input_width)\n",
    "            dummy_output = self.pool(F.relu(self.conv3(self.pool(F.relu(self.conv2(self.pool(F.relu(self.conv1(dummy_input)))))))))\n",
    "            return dummy_output.numel()"
   ]
  },
  {
   "cell_type": "markdown",
   "metadata": {},
   "source": [
    "### def training process"
   ]
  },
  {
   "cell_type": "code",
   "execution_count": 4,
   "metadata": {},
   "outputs": [],
   "source": [
    "def calculate_accuracy(model, dataloader):\n",
    "    model.eval()\n",
    "    total_correct = 0\n",
    "    total_samples = 0\n",
    "    with torch.no_grad():\n",
    "        for inputs, targets in dataloader:\n",
    "            outputs = model(inputs)\n",
    "            # 假设准确率的计算方式为预测值与目标值的均方误差小于某个阈值\n",
    "            mse = ((outputs - targets) ** 2).mean(dim=1)\n",
    "            correct = (mse < 0.1).sum().item()  # 阈值可以根据实际情况调整\n",
    "            total_correct += correct\n",
    "            total_samples += inputs.size(0)\n",
    "    accuracy = total_correct / total_samples\n",
    "    return accuracy\n",
    "\n",
    "def train_model(model, train_loader, test_loader, criterion, optimizer, num_epochs=10):\n",
    "    train_losses = []\n",
    "    train_accuracies = []\n",
    "    test_accuracies = []\n",
    "    for epoch in range(num_epochs):\n",
    "        model.train()\n",
    "        epoch_loss = 0\n",
    "        for inputs, targets in tqdm(train_loader, desc=f\"Epoch {epoch+1}/{num_epochs}\"):\n",
    "            inputs = inputs.to(device)\n",
    "            targets = targets.to(device)\n",
    "            optimizer.zero_grad()\n",
    "            outputs = model(inputs)\n",
    "            loss = criterion(outputs, targets)\n",
    "            loss.backward()\n",
    "            optimizer.step()\n",
    "            epoch_loss += loss.item()\n",
    "        avg_loss = epoch_loss / len(train_loader)\n",
    "        train_losses.append(avg_loss)\n",
    "        # 计算训练集和测试集上的准确率\n",
    "        train_accuracy = calculate_accuracy(model, train_loader)\n",
    "        test_accuracy = calculate_accuracy(model, test_loader)\n",
    "        train_accuracies.append(train_accuracy)\n",
    "        test_accuracies.append(test_accuracy)\n",
    "        print(f\"Epoch [{epoch+1}/{num_epochs}], Loss: {avg_loss:.4f}, Train Accuracy: {train_accuracy:.4f}, Test Accuracy: {test_accuracy:.4f}\")\n",
    "    return train_losses, train_accuracies, test_accuracies\n",
    "\n",
    "def plot_training_curve(train_losses, train_accuracies, test_accuracies):\n",
    "    plt.figure(figsize=(12, 4))\n",
    "    plt.subplot(1, 2, 1)\n",
    "    plt.plot(train_losses, label=\"Training Loss\")\n",
    "    plt.xlabel(\"Epoch\")\n",
    "    plt.ylabel(\"Loss\")\n",
    "    plt.title(\"Training Loss Curve\")\n",
    "    plt.legend()\n",
    "    plt.subplot(1, 2, 2)\n",
    "    plt.plot(train_accuracies, label=\"Train Accuracy\")\n",
    "    plt.plot(test_accuracies, label=\"Test Accuracy\")\n",
    "    plt.xlabel(\"Epoch\")\n",
    "    plt.ylabel(\"Accuracy\")\n",
    "    plt.title(\"Accuracy Curve\")\n",
    "    plt.legend()\n",
    "    plt.show()"
   ]
  },
  {
   "cell_type": "code",
   "execution_count": 8,
   "metadata": {},
   "outputs": [
    {
     "name": "stdout",
     "output_type": "stream",
     "text": [
      "tensor([[ 2.1688e+00,  1.5570e+03, -1.1820e+02,  5.9596e-01,  3.0189e+02,\n",
      "          4.9668e+03,  1.4125e+00,  1.5397e+03, -1.4829e+02,  2.0000e-01,\n",
      "          4.2984e+01,  5.0560e+03,  4.2642e-01,  1.3073e+03, -3.8254e+01,\n",
      "          7.9363e-02,  4.1200e-03,  1.0961e-02,  3.2933e-01,  3.6226e+02,\n",
      "         -6.1885e+01,  2.5932e-01,  2.5017e+01,  1.7145e+03,  2.4046e-02,\n",
      "          1.7950e+03,  4.7650e+01]])\n",
      "torch.Size([1, 1, 2, 1000])\n",
      "torch.Size([1, 27])\n"
     ]
    }
   ],
   "source": [
    "def generate_data(num_samples=200, input_width=1000):\n",
    "    X_list = []\n",
    "    y_list = []\n",
    "    \n",
    "    for _ in range(num_samples):\n",
    "        \n",
    "        arg_dict_func = {\n",
    "            'b_ha': {'amp_c':uniform, 'sigma_c':uniform, 'dv_c':normal, 'amp_w0':uniform, 'dv_w0':normal, 'sigma_w0':pnormal}, \n",
    "            'b_hb': {'amp_c':uniform, 'sigma_c':pnormal, 'dv_c':normal, 'amp_w0':uniform, 'dv_w0':normal, 'sigma_w0':pnormal}, \n",
    "            'b_hg': {'amp_c':uniform, 'sigma_c':pnormal, 'dv_c':normal}, \n",
    "            'n_ha':{'amp_c':pnormal}, \n",
    "            'n_hb':{'amp_c':pnormal}, \n",
    "            'n_hc':{'amp_c':pnormal}, \n",
    "            'line_o3': {'amp_c0':pnormal, 'sigma_c':pnormal, 'dv_c':normal, 'amp_w0':uniform, 'dv_w0':normal, 'sigma_w0':pnormal}, \n",
    "            'b_HeI': {'amp_c':pnormal, 'sigma_c':uniform, 'dv_c':normal}\n",
    "        }\n",
    "        \n",
    "        arg_dict_range = {\n",
    "            'b_ha': {'amp_c':(1.5, 2.5), 'sigma_c':(1200, 1600), 'dv_c':(0, 75), 'amp_w0':(0.05, 0.6), 'dv_w0':(0, 400), 'sigma_w0':(5000, 400)}, \n",
    "            'b_hb': {'amp_c':(0.7, 1.7), 'sigma_c':(1500, 200), 'dv_c':(0, 75), 'amp_w0':(0.05, 0.3), 'dv_w0':(0, 100), 'sigma_w0':(5000, 450)}, \n",
    "            'b_hg': {'amp_c':(0.4, 0.9), 'sigma_c':(1500, 200), 'dv_c':(0, 75)}, \n",
    "            'n_ha':{'amp_c':(0.1, 0.05)}, \n",
    "            'n_hb':{'amp_c':(0.1, 0.05)}, \n",
    "            'n_hc':{'amp_c':(0.1, 0.05)}, \n",
    "            'line_o3': {'amp_c0':(1, 0.5), 'sigma_c':(500, 200), 'dv_c':(0, 75), 'amp_w0':(0.1, 0.5), 'dv_w0':(-100, 100), 'sigma_w0':(1700, 400)}, \n",
    "            'b_HeI': {'amp_c':(0.1, 0.08), 'sigma_c':(1400, 1800), 'dv_c':(0, 75)}\n",
    "        }\n",
    "        \n",
    "        arg_dict = {key: {param: arg_dict_func[key][param](*arg_dict_range[key][param]) for param in arg_dict_func[key]} for key in arg_dict_func}\n",
    "        \n",
    "        wave = np.linspace(4150, 7000, input_width)\n",
    "        flux = generate_spec(wave, arg_dict=arg_dict)\n",
    "        \n",
    "        data = np.stack((wave, flux), axis=0)\n",
    "        X_list.append(torch.tensor(data, dtype=torch.float32).view(1, 2, input_width))\n",
    "        arg_list = [value for line in arg_dict.values() for value in line.values()]\n",
    "        y_list.append(torch.tensor(arg_list, dtype=torch.float32))\n",
    "    \n",
    "    X = torch.cat(X_list, dim=0).reshape(num_samples, 1, 2, input_width)\n",
    "    y = torch.stack(y_list)\n",
    "\n",
    "    return X, y\n",
    "\n",
    "if __name__ == \"__main__\":\n",
    "    X, y = generate_data(1, 1000)\n",
    "    print(y)\n",
    "    print(X.shape)\n",
    "    print(y.shape)\n"
   ]
  },
  {
   "cell_type": "markdown",
   "metadata": {},
   "source": [
    "### training"
   ]
  },
  {
   "cell_type": "code",
   "execution_count": 6,
   "metadata": {},
   "outputs": [
    {
     "name": "stderr",
     "output_type": "stream",
     "text": [
      "Epoch 1/200: 100%|██████████| 75/75 [00:00<00:00, 75.23it/s]\n",
      "Epoch 2/200:  39%|███▊      | 29/75 [00:00<00:00, 282.29it/s]"
     ]
    },
    {
     "name": "stdout",
     "output_type": "stream",
     "text": [
      "Epoch [1/200], Loss: 2330711.1167, Train Accuracy: 0.0000, Test Accuracy: 0.0000\n"
     ]
    },
    {
     "name": "stderr",
     "output_type": "stream",
     "text": [
      "Epoch 2/200: 100%|██████████| 75/75 [00:00<00:00, 286.69it/s]\n",
      "Epoch 3/200:  39%|███▊      | 29/75 [00:00<00:00, 284.78it/s]"
     ]
    },
    {
     "name": "stdout",
     "output_type": "stream",
     "text": [
      "Epoch [2/200], Loss: 2328532.7633, Train Accuracy: 0.0000, Test Accuracy: 0.0000\n"
     ]
    },
    {
     "name": "stderr",
     "output_type": "stream",
     "text": [
      "Epoch 3/200: 100%|██████████| 75/75 [00:00<00:00, 284.65it/s]\n",
      "Epoch 4/200:  41%|████▏     | 31/75 [00:00<00:00, 284.16it/s]"
     ]
    },
    {
     "name": "stdout",
     "output_type": "stream",
     "text": [
      "Epoch [3/200], Loss: 2323502.7800, Train Accuracy: 0.0000, Test Accuracy: 0.0000\n"
     ]
    },
    {
     "name": "stderr",
     "output_type": "stream",
     "text": [
      "Epoch 4/200: 100%|██████████| 75/75 [00:00<00:00, 280.27it/s]\n",
      "Epoch 5/200:  39%|███▊      | 29/75 [00:00<00:00, 276.62it/s]"
     ]
    },
    {
     "name": "stdout",
     "output_type": "stream",
     "text": [
      "Epoch [4/200], Loss: 2315684.5567, Train Accuracy: 0.0000, Test Accuracy: 0.0000\n"
     ]
    },
    {
     "name": "stderr",
     "output_type": "stream",
     "text": [
      "Epoch 5/200: 100%|██████████| 75/75 [00:00<00:00, 284.70it/s]\n",
      "Epoch 6/200:  37%|███▋      | 28/75 [00:00<00:00, 262.38it/s]"
     ]
    },
    {
     "name": "stdout",
     "output_type": "stream",
     "text": [
      "Epoch [5/200], Loss: 2305403.6533, Train Accuracy: 0.0000, Test Accuracy: 0.0000\n"
     ]
    },
    {
     "name": "stderr",
     "output_type": "stream",
     "text": [
      "Epoch 6/200: 100%|██████████| 75/75 [00:00<00:00, 283.21it/s]\n",
      "Epoch 7/200:  39%|███▊      | 29/75 [00:00<00:00, 269.95it/s]"
     ]
    },
    {
     "name": "stdout",
     "output_type": "stream",
     "text": [
      "Epoch [6/200], Loss: 2292617.6933, Train Accuracy: 0.0000, Test Accuracy: 0.0000\n"
     ]
    },
    {
     "name": "stderr",
     "output_type": "stream",
     "text": [
      "Epoch 7/200: 100%|██████████| 75/75 [00:00<00:00, 277.63it/s]\n",
      "Epoch 8/200:  39%|███▊      | 29/75 [00:00<00:00, 265.00it/s]"
     ]
    },
    {
     "name": "stdout",
     "output_type": "stream",
     "text": [
      "Epoch [7/200], Loss: 2277462.5233, Train Accuracy: 0.0000, Test Accuracy: 0.0000\n"
     ]
    },
    {
     "name": "stderr",
     "output_type": "stream",
     "text": [
      "Epoch 8/200: 100%|██████████| 75/75 [00:00<00:00, 274.36it/s]\n",
      "Epoch 9/200:  76%|███████▌  | 57/75 [00:00<00:00, 277.71it/s]"
     ]
    },
    {
     "name": "stdout",
     "output_type": "stream",
     "text": [
      "Epoch [8/200], Loss: 2260181.1267, Train Accuracy: 0.0000, Test Accuracy: 0.0000\n"
     ]
    },
    {
     "name": "stderr",
     "output_type": "stream",
     "text": [
      "Epoch 9/200: 100%|██████████| 75/75 [00:00<00:00, 280.99it/s]\n",
      "Epoch 10/200:  37%|███▋      | 28/75 [00:00<00:00, 277.52it/s]"
     ]
    },
    {
     "name": "stdout",
     "output_type": "stream",
     "text": [
      "Epoch [9/200], Loss: 2240774.6333, Train Accuracy: 0.0000, Test Accuracy: 0.0000\n"
     ]
    },
    {
     "name": "stderr",
     "output_type": "stream",
     "text": [
      "Epoch 10/200: 100%|██████████| 75/75 [00:00<00:00, 278.24it/s]\n",
      "Epoch 11/200:  37%|███▋      | 28/75 [00:00<00:00, 279.33it/s]"
     ]
    },
    {
     "name": "stdout",
     "output_type": "stream",
     "text": [
      "Epoch [10/200], Loss: 2219421.1300, Train Accuracy: 0.0000, Test Accuracy: 0.0000\n"
     ]
    },
    {
     "name": "stderr",
     "output_type": "stream",
     "text": [
      "Epoch 11/200: 100%|██████████| 75/75 [00:00<00:00, 277.14it/s]\n",
      "Epoch 12/200:  40%|████      | 30/75 [00:00<00:00, 272.95it/s]"
     ]
    },
    {
     "name": "stdout",
     "output_type": "stream",
     "text": [
      "Epoch [11/200], Loss: 2196185.7033, Train Accuracy: 0.0000, Test Accuracy: 0.0000\n"
     ]
    },
    {
     "name": "stderr",
     "output_type": "stream",
     "text": [
      "Epoch 12/200: 100%|██████████| 75/75 [00:00<00:00, 277.04it/s]\n",
      "Epoch 13/200:  39%|███▊      | 29/75 [00:00<00:00, 285.65it/s]"
     ]
    },
    {
     "name": "stdout",
     "output_type": "stream",
     "text": [
      "Epoch [12/200], Loss: 2171279.0117, Train Accuracy: 0.0000, Test Accuracy: 0.0000\n"
     ]
    },
    {
     "name": "stderr",
     "output_type": "stream",
     "text": [
      "Epoch 13/200: 100%|██████████| 75/75 [00:00<00:00, 283.27it/s]\n",
      "Epoch 14/200:  75%|███████▍  | 56/75 [00:00<00:00, 271.16it/s]"
     ]
    },
    {
     "name": "stdout",
     "output_type": "stream",
     "text": [
      "Epoch [13/200], Loss: 2144730.2117, Train Accuracy: 0.0000, Test Accuracy: 0.0000\n"
     ]
    },
    {
     "name": "stderr",
     "output_type": "stream",
     "text": [
      "Epoch 14/200: 100%|██████████| 75/75 [00:00<00:00, 276.05it/s]\n",
      "Epoch 15/200:  36%|███▌      | 27/75 [00:00<00:00, 264.46it/s]"
     ]
    },
    {
     "name": "stdout",
     "output_type": "stream",
     "text": [
      "Epoch [14/200], Loss: 2116981.5983, Train Accuracy: 0.0000, Test Accuracy: 0.0000\n"
     ]
    },
    {
     "name": "stderr",
     "output_type": "stream",
     "text": [
      "Epoch 15/200: 100%|██████████| 75/75 [00:00<00:00, 276.91it/s]\n",
      "Epoch 16/200:  40%|████      | 30/75 [00:00<00:00, 288.40it/s]"
     ]
    },
    {
     "name": "stdout",
     "output_type": "stream",
     "text": [
      "Epoch [15/200], Loss: 2087628.4883, Train Accuracy: 0.0000, Test Accuracy: 0.0000\n"
     ]
    },
    {
     "name": "stderr",
     "output_type": "stream",
     "text": [
      "Epoch 16/200: 100%|██████████| 75/75 [00:00<00:00, 280.65it/s]\n",
      "Epoch 17/200:  77%|███████▋  | 58/75 [00:00<00:00, 275.60it/s]"
     ]
    },
    {
     "name": "stdout",
     "output_type": "stream",
     "text": [
      "Epoch [16/200], Loss: 2057171.8600, Train Accuracy: 0.0000, Test Accuracy: 0.0000\n"
     ]
    },
    {
     "name": "stderr",
     "output_type": "stream",
     "text": [
      "Epoch 17/200: 100%|██████████| 75/75 [00:00<00:00, 276.33it/s]\n",
      "Epoch 18/200:  37%|███▋      | 28/75 [00:00<00:00, 274.06it/s]"
     ]
    },
    {
     "name": "stdout",
     "output_type": "stream",
     "text": [
      "Epoch [17/200], Loss: 2025665.1767, Train Accuracy: 0.0000, Test Accuracy: 0.0000\n"
     ]
    },
    {
     "name": "stderr",
     "output_type": "stream",
     "text": [
      "Epoch 18/200: 100%|██████████| 75/75 [00:00<00:00, 286.64it/s]\n",
      "Epoch 19/200:  40%|████      | 30/75 [00:00<00:00, 288.93it/s]"
     ]
    },
    {
     "name": "stdout",
     "output_type": "stream",
     "text": [
      "Epoch [18/200], Loss: 1993226.7067, Train Accuracy: 0.0000, Test Accuracy: 0.0000\n"
     ]
    },
    {
     "name": "stderr",
     "output_type": "stream",
     "text": [
      "Epoch 19/200: 100%|██████████| 75/75 [00:00<00:00, 292.70it/s]\n",
      "Epoch 20/200:  37%|███▋      | 28/75 [00:00<00:00, 274.69it/s]"
     ]
    },
    {
     "name": "stdout",
     "output_type": "stream",
     "text": [
      "Epoch [19/200], Loss: 1959788.3017, Train Accuracy: 0.0000, Test Accuracy: 0.0000\n"
     ]
    },
    {
     "name": "stderr",
     "output_type": "stream",
     "text": [
      "Epoch 20/200: 100%|██████████| 75/75 [00:00<00:00, 277.73it/s]\n",
      "Epoch 21/200:  39%|███▊      | 29/75 [00:00<00:00, 287.98it/s]"
     ]
    },
    {
     "name": "stdout",
     "output_type": "stream",
     "text": [
      "Epoch [20/200], Loss: 1925620.8933, Train Accuracy: 0.0000, Test Accuracy: 0.0000\n"
     ]
    },
    {
     "name": "stderr",
     "output_type": "stream",
     "text": [
      "Epoch 21/200: 100%|██████████| 75/75 [00:00<00:00, 279.51it/s]\n",
      "Epoch 22/200:  76%|███████▌  | 57/75 [00:00<00:00, 280.52it/s]"
     ]
    },
    {
     "name": "stdout",
     "output_type": "stream",
     "text": [
      "Epoch [21/200], Loss: 1890896.1650, Train Accuracy: 0.0000, Test Accuracy: 0.0000\n"
     ]
    },
    {
     "name": "stderr",
     "output_type": "stream",
     "text": [
      "Epoch 22/200: 100%|██████████| 75/75 [00:00<00:00, 279.28it/s]\n",
      "Epoch 23/200:  36%|███▌      | 27/75 [00:00<00:00, 267.96it/s]"
     ]
    },
    {
     "name": "stdout",
     "output_type": "stream",
     "text": [
      "Epoch [22/200], Loss: 1855431.8767, Train Accuracy: 0.0000, Test Accuracy: 0.0000\n"
     ]
    },
    {
     "name": "stderr",
     "output_type": "stream",
     "text": [
      "Epoch 23/200: 100%|██████████| 75/75 [00:00<00:00, 266.50it/s]\n",
      "Epoch 24/200:  39%|███▊      | 29/75 [00:00<00:00, 283.13it/s]"
     ]
    },
    {
     "name": "stdout",
     "output_type": "stream",
     "text": [
      "Epoch [23/200], Loss: 1819474.2183, Train Accuracy: 0.0000, Test Accuracy: 0.0000\n"
     ]
    },
    {
     "name": "stderr",
     "output_type": "stream",
     "text": [
      "Epoch 24/200: 100%|██████████| 75/75 [00:00<00:00, 292.59it/s]\n",
      "Epoch 25/200:  40%|████      | 30/75 [00:00<00:00, 292.60it/s]"
     ]
    },
    {
     "name": "stdout",
     "output_type": "stream",
     "text": [
      "Epoch [24/200], Loss: 1783171.4650, Train Accuracy: 0.0000, Test Accuracy: 0.0000\n"
     ]
    },
    {
     "name": "stderr",
     "output_type": "stream",
     "text": [
      "Epoch 25/200: 100%|██████████| 75/75 [00:00<00:00, 289.66it/s]\n",
      "Epoch 26/200:  40%|████      | 30/75 [00:00<00:00, 279.81it/s]"
     ]
    },
    {
     "name": "stdout",
     "output_type": "stream",
     "text": [
      "Epoch [25/200], Loss: 1746669.9667, Train Accuracy: 0.0000, Test Accuracy: 0.0000\n"
     ]
    },
    {
     "name": "stderr",
     "output_type": "stream",
     "text": [
      "Epoch 26/200: 100%|██████████| 75/75 [00:00<00:00, 280.39it/s]\n",
      "Epoch 27/200:  40%|████      | 30/75 [00:00<00:00, 280.57it/s]"
     ]
    },
    {
     "name": "stdout",
     "output_type": "stream",
     "text": [
      "Epoch [26/200], Loss: 1709889.2733, Train Accuracy: 0.0000, Test Accuracy: 0.0000\n"
     ]
    },
    {
     "name": "stderr",
     "output_type": "stream",
     "text": [
      "Epoch 27/200: 100%|██████████| 75/75 [00:00<00:00, 290.03it/s]\n",
      "Epoch 28/200:  40%|████      | 30/75 [00:00<00:00, 282.48it/s]"
     ]
    },
    {
     "name": "stdout",
     "output_type": "stream",
     "text": [
      "Epoch [27/200], Loss: 1672982.7817, Train Accuracy: 0.0000, Test Accuracy: 0.0000\n"
     ]
    },
    {
     "name": "stderr",
     "output_type": "stream",
     "text": [
      "Epoch 28/200: 100%|██████████| 75/75 [00:00<00:00, 287.16it/s]\n",
      "Epoch 29/200:  37%|███▋      | 28/75 [00:00<00:00, 279.68it/s]"
     ]
    },
    {
     "name": "stdout",
     "output_type": "stream",
     "text": [
      "Epoch [28/200], Loss: 1635957.9017, Train Accuracy: 0.0000, Test Accuracy: 0.0000\n"
     ]
    },
    {
     "name": "stderr",
     "output_type": "stream",
     "text": [
      "Epoch 29/200: 100%|██████████| 75/75 [00:00<00:00, 287.96it/s]\n",
      "Epoch 30/200:  39%|███▊      | 29/75 [00:00<00:00, 289.64it/s]"
     ]
    },
    {
     "name": "stdout",
     "output_type": "stream",
     "text": [
      "Epoch [29/200], Loss: 1598900.5750, Train Accuracy: 0.0000, Test Accuracy: 0.0000\n"
     ]
    },
    {
     "name": "stderr",
     "output_type": "stream",
     "text": [
      "Epoch 30/200: 100%|██████████| 75/75 [00:00<00:00, 274.28it/s]\n",
      "Epoch 31/200:  77%|███████▋  | 58/75 [00:00<00:00, 284.00it/s]"
     ]
    },
    {
     "name": "stdout",
     "output_type": "stream",
     "text": [
      "Epoch [30/200], Loss: 1561930.2067, Train Accuracy: 0.0000, Test Accuracy: 0.0000\n"
     ]
    },
    {
     "name": "stderr",
     "output_type": "stream",
     "text": [
      "Epoch 31/200: 100%|██████████| 75/75 [00:00<00:00, 283.79it/s]\n",
      "Epoch 32/200:  39%|███▊      | 29/75 [00:00<00:00, 284.47it/s]"
     ]
    },
    {
     "name": "stdout",
     "output_type": "stream",
     "text": [
      "Epoch [31/200], Loss: 1525060.7733, Train Accuracy: 0.0000, Test Accuracy: 0.0000\n"
     ]
    },
    {
     "name": "stderr",
     "output_type": "stream",
     "text": [
      "Epoch 32/200: 100%|██████████| 75/75 [00:00<00:00, 284.41it/s]\n",
      "Epoch 33/200:  39%|███▊      | 29/75 [00:00<00:00, 284.73it/s]"
     ]
    },
    {
     "name": "stdout",
     "output_type": "stream",
     "text": [
      "Epoch [32/200], Loss: 1488318.9300, Train Accuracy: 0.0000, Test Accuracy: 0.0000\n"
     ]
    },
    {
     "name": "stderr",
     "output_type": "stream",
     "text": [
      "Epoch 33/200: 100%|██████████| 75/75 [00:00<00:00, 280.18it/s]\n",
      "Epoch 34/200:  63%|██████▎   | 47/75 [00:00<00:00, 234.39it/s]"
     ]
    },
    {
     "name": "stdout",
     "output_type": "stream",
     "text": [
      "Epoch [33/200], Loss: 1451912.6117, Train Accuracy: 0.0000, Test Accuracy: 0.0000\n"
     ]
    },
    {
     "name": "stderr",
     "output_type": "stream",
     "text": [
      "Epoch 34/200: 100%|██████████| 75/75 [00:00<00:00, 242.74it/s]\n",
      "Epoch 35/200:  76%|███████▌  | 57/75 [00:00<00:00, 271.74it/s]"
     ]
    },
    {
     "name": "stdout",
     "output_type": "stream",
     "text": [
      "Epoch [34/200], Loss: 1415699.0000, Train Accuracy: 0.0000, Test Accuracy: 0.0000\n"
     ]
    },
    {
     "name": "stderr",
     "output_type": "stream",
     "text": [
      "Epoch 35/200: 100%|██████████| 75/75 [00:00<00:00, 276.23it/s]\n",
      "Epoch 36/200:  39%|███▊      | 29/75 [00:00<00:00, 285.95it/s]"
     ]
    },
    {
     "name": "stdout",
     "output_type": "stream",
     "text": [
      "Epoch [35/200], Loss: 1379793.6933, Train Accuracy: 0.0000, Test Accuracy: 0.0000\n"
     ]
    },
    {
     "name": "stderr",
     "output_type": "stream",
     "text": [
      "Epoch 36/200: 100%|██████████| 75/75 [00:00<00:00, 294.79it/s]\n",
      "Epoch 37/200:  75%|███████▍  | 56/75 [00:00<00:00, 271.49it/s]"
     ]
    },
    {
     "name": "stdout",
     "output_type": "stream",
     "text": [
      "Epoch [36/200], Loss: 1344295.7183, Train Accuracy: 0.0000, Test Accuracy: 0.0000\n"
     ]
    },
    {
     "name": "stderr",
     "output_type": "stream",
     "text": [
      "Epoch 37/200: 100%|██████████| 75/75 [00:00<00:00, 279.10it/s]\n",
      "Epoch 38/200:  41%|████▏     | 31/75 [00:00<00:00, 283.18it/s]"
     ]
    },
    {
     "name": "stdout",
     "output_type": "stream",
     "text": [
      "Epoch [37/200], Loss: 1309090.9083, Train Accuracy: 0.0000, Test Accuracy: 0.0000\n"
     ]
    },
    {
     "name": "stderr",
     "output_type": "stream",
     "text": [
      "Epoch 38/200: 100%|██████████| 75/75 [00:00<00:00, 288.26it/s]\n",
      "Epoch 39/200:  43%|████▎     | 32/75 [00:00<00:00, 292.52it/s]"
     ]
    },
    {
     "name": "stdout",
     "output_type": "stream",
     "text": [
      "Epoch [38/200], Loss: 1274400.2217, Train Accuracy: 0.0000, Test Accuracy: 0.0000\n"
     ]
    },
    {
     "name": "stderr",
     "output_type": "stream",
     "text": [
      "Epoch 39/200: 100%|██████████| 75/75 [00:00<00:00, 290.54it/s]\n",
      "Epoch 40/200:  40%|████      | 30/75 [00:00<00:00, 293.64it/s]"
     ]
    },
    {
     "name": "stdout",
     "output_type": "stream",
     "text": [
      "Epoch [39/200], Loss: 1240142.6733, Train Accuracy: 0.0000, Test Accuracy: 0.0000\n"
     ]
    },
    {
     "name": "stderr",
     "output_type": "stream",
     "text": [
      "Epoch 40/200: 100%|██████████| 75/75 [00:00<00:00, 287.27it/s]\n",
      "Epoch 41/200:  77%|███████▋  | 58/75 [00:00<00:00, 288.94it/s]"
     ]
    },
    {
     "name": "stdout",
     "output_type": "stream",
     "text": [
      "Epoch [40/200], Loss: 1206588.3383, Train Accuracy: 0.0000, Test Accuracy: 0.0000\n"
     ]
    },
    {
     "name": "stderr",
     "output_type": "stream",
     "text": [
      "Epoch 41/200: 100%|██████████| 75/75 [00:00<00:00, 284.16it/s]\n",
      "Epoch 42/200:  79%|███████▊  | 59/75 [00:00<00:00, 288.40it/s]"
     ]
    },
    {
     "name": "stdout",
     "output_type": "stream",
     "text": [
      "Epoch [41/200], Loss: 1173352.0500, Train Accuracy: 0.0000, Test Accuracy: 0.0000\n"
     ]
    },
    {
     "name": "stderr",
     "output_type": "stream",
     "text": [
      "Epoch 42/200: 100%|██████████| 75/75 [00:00<00:00, 285.51it/s]\n",
      "Epoch 43/200:  80%|████████  | 60/75 [00:00<00:00, 290.34it/s]"
     ]
    },
    {
     "name": "stdout",
     "output_type": "stream",
     "text": [
      "Epoch [42/200], Loss: 1140808.2583, Train Accuracy: 0.0000, Test Accuracy: 0.0000\n"
     ]
    },
    {
     "name": "stderr",
     "output_type": "stream",
     "text": [
      "Epoch 43/200: 100%|██████████| 75/75 [00:00<00:00, 287.80it/s]\n",
      "Epoch 44/200:  37%|███▋      | 28/75 [00:00<00:00, 276.63it/s]"
     ]
    },
    {
     "name": "stdout",
     "output_type": "stream",
     "text": [
      "Epoch [43/200], Loss: 1108924.1800, Train Accuracy: 0.0000, Test Accuracy: 0.0000\n"
     ]
    },
    {
     "name": "stderr",
     "output_type": "stream",
     "text": [
      "Epoch 44/200: 100%|██████████| 75/75 [00:00<00:00, 281.19it/s]\n",
      "Epoch 45/200:  40%|████      | 30/75 [00:00<00:00, 276.82it/s]"
     ]
    },
    {
     "name": "stdout",
     "output_type": "stream",
     "text": [
      "Epoch [44/200], Loss: 1077518.5808, Train Accuracy: 0.0000, Test Accuracy: 0.0000\n"
     ]
    },
    {
     "name": "stderr",
     "output_type": "stream",
     "text": [
      "Epoch 45/200: 100%|██████████| 75/75 [00:00<00:00, 276.79it/s]\n",
      "Epoch 46/200:  39%|███▊      | 29/75 [00:00<00:00, 280.51it/s]"
     ]
    },
    {
     "name": "stdout",
     "output_type": "stream",
     "text": [
      "Epoch [45/200], Loss: 1046902.8233, Train Accuracy: 0.0000, Test Accuracy: 0.0000\n"
     ]
    },
    {
     "name": "stderr",
     "output_type": "stream",
     "text": [
      "Epoch 46/200: 100%|██████████| 75/75 [00:00<00:00, 268.43it/s]\n",
      "Epoch 47/200:  73%|███████▎  | 55/75 [00:00<00:00, 269.76it/s]"
     ]
    },
    {
     "name": "stdout",
     "output_type": "stream",
     "text": [
      "Epoch [46/200], Loss: 1016731.8400, Train Accuracy: 0.0000, Test Accuracy: 0.0000\n"
     ]
    },
    {
     "name": "stderr",
     "output_type": "stream",
     "text": [
      "Epoch 47/200: 100%|██████████| 75/75 [00:00<00:00, 268.29it/s]\n",
      "Epoch 48/200:  37%|███▋      | 28/75 [00:00<00:00, 279.77it/s]"
     ]
    },
    {
     "name": "stdout",
     "output_type": "stream",
     "text": [
      "Epoch [47/200], Loss: 987340.4708, Train Accuracy: 0.0000, Test Accuracy: 0.0000\n"
     ]
    },
    {
     "name": "stderr",
     "output_type": "stream",
     "text": [
      "Epoch 48/200: 100%|██████████| 75/75 [00:00<00:00, 279.01it/s]\n",
      "Epoch 49/200:  72%|███████▏  | 54/75 [00:00<00:00, 256.45it/s]"
     ]
    },
    {
     "name": "stdout",
     "output_type": "stream",
     "text": [
      "Epoch [48/200], Loss: 958565.2617, Train Accuracy: 0.0000, Test Accuracy: 0.0000\n"
     ]
    },
    {
     "name": "stderr",
     "output_type": "stream",
     "text": [
      "Epoch 49/200: 100%|██████████| 75/75 [00:00<00:00, 270.50it/s]\n",
      "Epoch 50/200:  41%|████▏     | 31/75 [00:00<00:00, 292.69it/s]"
     ]
    },
    {
     "name": "stdout",
     "output_type": "stream",
     "text": [
      "Epoch [49/200], Loss: 930370.5792, Train Accuracy: 0.0000, Test Accuracy: 0.0000\n"
     ]
    },
    {
     "name": "stderr",
     "output_type": "stream",
     "text": [
      "Epoch 50/200: 100%|██████████| 75/75 [00:00<00:00, 292.71it/s]\n",
      "Epoch 51/200:  39%|███▊      | 29/75 [00:00<00:00, 287.53it/s]"
     ]
    },
    {
     "name": "stdout",
     "output_type": "stream",
     "text": [
      "Epoch [50/200], Loss: 902937.1742, Train Accuracy: 0.0000, Test Accuracy: 0.0000\n"
     ]
    },
    {
     "name": "stderr",
     "output_type": "stream",
     "text": [
      "Epoch 51/200: 100%|██████████| 75/75 [00:00<00:00, 282.95it/s]\n",
      "Epoch 52/200:  40%|████      | 30/75 [00:00<00:00, 291.85it/s]"
     ]
    },
    {
     "name": "stdout",
     "output_type": "stream",
     "text": [
      "Epoch [51/200], Loss: 876068.3592, Train Accuracy: 0.0000, Test Accuracy: 0.0000\n"
     ]
    },
    {
     "name": "stderr",
     "output_type": "stream",
     "text": [
      "Epoch 52/200: 100%|██████████| 75/75 [00:00<00:00, 287.86it/s]\n",
      "Epoch 53/200:  36%|███▌      | 27/75 [00:00<00:00, 267.31it/s]"
     ]
    },
    {
     "name": "stdout",
     "output_type": "stream",
     "text": [
      "Epoch [52/200], Loss: 849687.1533, Train Accuracy: 0.0000, Test Accuracy: 0.0000\n"
     ]
    },
    {
     "name": "stderr",
     "output_type": "stream",
     "text": [
      "Epoch 53/200: 100%|██████████| 75/75 [00:00<00:00, 254.21it/s]\n",
      "Epoch 54/200:  39%|███▊      | 29/75 [00:00<00:00, 279.27it/s]"
     ]
    },
    {
     "name": "stdout",
     "output_type": "stream",
     "text": [
      "Epoch [53/200], Loss: 823897.7658, Train Accuracy: 0.0000, Test Accuracy: 0.0000\n"
     ]
    },
    {
     "name": "stderr",
     "output_type": "stream",
     "text": [
      "Epoch 54/200: 100%|██████████| 75/75 [00:00<00:00, 277.16it/s]\n",
      "Epoch 55/200:  40%|████      | 30/75 [00:00<00:00, 290.70it/s]"
     ]
    },
    {
     "name": "stdout",
     "output_type": "stream",
     "text": [
      "Epoch [54/200], Loss: 798710.5250, Train Accuracy: 0.0000, Test Accuracy: 0.0000\n"
     ]
    },
    {
     "name": "stderr",
     "output_type": "stream",
     "text": [
      "Epoch 55/200: 100%|██████████| 75/75 [00:00<00:00, 284.74it/s]\n",
      "Epoch 56/200:  39%|███▊      | 29/75 [00:00<00:00, 287.60it/s]"
     ]
    },
    {
     "name": "stdout",
     "output_type": "stream",
     "text": [
      "Epoch [55/200], Loss: 774027.7575, Train Accuracy: 0.0000, Test Accuracy: 0.0000\n"
     ]
    },
    {
     "name": "stderr",
     "output_type": "stream",
     "text": [
      "Epoch 56/200: 100%|██████████| 75/75 [00:00<00:00, 285.58it/s]\n",
      "Epoch 57/200:  39%|███▊      | 29/75 [00:00<00:00, 289.21it/s]"
     ]
    },
    {
     "name": "stdout",
     "output_type": "stream",
     "text": [
      "Epoch [56/200], Loss: 749849.7358, Train Accuracy: 0.0000, Test Accuracy: 0.0000\n"
     ]
    },
    {
     "name": "stderr",
     "output_type": "stream",
     "text": [
      "Epoch 57/200: 100%|██████████| 75/75 [00:00<00:00, 288.49it/s]\n",
      "Epoch 58/200:  41%|████▏     | 31/75 [00:00<00:00, 293.22it/s]"
     ]
    },
    {
     "name": "stdout",
     "output_type": "stream",
     "text": [
      "Epoch [57/200], Loss: 726080.6208, Train Accuracy: 0.0000, Test Accuracy: 0.0000\n"
     ]
    },
    {
     "name": "stderr",
     "output_type": "stream",
     "text": [
      "Epoch 58/200: 100%|██████████| 75/75 [00:00<00:00, 281.70it/s]\n",
      "Epoch 59/200:  40%|████      | 30/75 [00:00<00:00, 297.41it/s]"
     ]
    },
    {
     "name": "stdout",
     "output_type": "stream",
     "text": [
      "Epoch [58/200], Loss: 702732.2750, Train Accuracy: 0.0000, Test Accuracy: 0.0000\n"
     ]
    },
    {
     "name": "stderr",
     "output_type": "stream",
     "text": [
      "Epoch 59/200: 100%|██████████| 75/75 [00:00<00:00, 287.78it/s]\n",
      "Epoch 60/200:  77%|███████▋  | 58/75 [00:00<00:00, 281.81it/s]"
     ]
    },
    {
     "name": "stdout",
     "output_type": "stream",
     "text": [
      "Epoch [59/200], Loss: 679680.1158, Train Accuracy: 0.0000, Test Accuracy: 0.0000\n"
     ]
    },
    {
     "name": "stderr",
     "output_type": "stream",
     "text": [
      "Epoch 60/200: 100%|██████████| 75/75 [00:00<00:00, 279.83it/s]\n",
      "Epoch 61/200:  40%|████      | 30/75 [00:00<00:00, 291.22it/s]"
     ]
    },
    {
     "name": "stdout",
     "output_type": "stream",
     "text": [
      "Epoch [60/200], Loss: 657080.1342, Train Accuracy: 0.0000, Test Accuracy: 0.0000\n"
     ]
    },
    {
     "name": "stderr",
     "output_type": "stream",
     "text": [
      "Epoch 61/200: 100%|██████████| 75/75 [00:00<00:00, 285.61it/s]\n",
      "Epoch 62/200:  39%|███▊      | 29/75 [00:00<00:00, 287.02it/s]"
     ]
    },
    {
     "name": "stdout",
     "output_type": "stream",
     "text": [
      "Epoch [61/200], Loss: 634832.7450, Train Accuracy: 0.0000, Test Accuracy: 0.0000\n"
     ]
    },
    {
     "name": "stderr",
     "output_type": "stream",
     "text": [
      "Epoch 62/200: 100%|██████████| 75/75 [00:00<00:00, 284.24it/s]\n",
      "Epoch 63/200:  40%|████      | 30/75 [00:00<00:00, 289.12it/s]"
     ]
    },
    {
     "name": "stdout",
     "output_type": "stream",
     "text": [
      "Epoch [62/200], Loss: 612839.0742, Train Accuracy: 0.0000, Test Accuracy: 0.0000\n"
     ]
    },
    {
     "name": "stderr",
     "output_type": "stream",
     "text": [
      "Epoch 63/200: 100%|██████████| 75/75 [00:00<00:00, 285.65it/s]\n",
      "Epoch 64/200:  41%|████▏     | 31/75 [00:00<00:00, 289.19it/s]"
     ]
    },
    {
     "name": "stdout",
     "output_type": "stream",
     "text": [
      "Epoch [63/200], Loss: 591958.9442, Train Accuracy: 0.0000, Test Accuracy: 0.0000\n"
     ]
    },
    {
     "name": "stderr",
     "output_type": "stream",
     "text": [
      "Epoch 64/200: 100%|██████████| 75/75 [00:00<00:00, 283.37it/s]\n",
      "Epoch 65/200:  40%|████      | 30/75 [00:00<00:00, 287.82it/s]"
     ]
    },
    {
     "name": "stdout",
     "output_type": "stream",
     "text": [
      "Epoch [64/200], Loss: 569776.8342, Train Accuracy: 0.0000, Test Accuracy: 0.0000\n"
     ]
    },
    {
     "name": "stderr",
     "output_type": "stream",
     "text": [
      "Epoch 65/200: 100%|██████████| 75/75 [00:00<00:00, 287.87it/s]\n",
      "Epoch 66/200:  39%|███▊      | 29/75 [00:00<00:00, 286.68it/s]"
     ]
    },
    {
     "name": "stdout",
     "output_type": "stream",
     "text": [
      "Epoch [65/200], Loss: 548536.7425, Train Accuracy: 0.0000, Test Accuracy: 0.0000\n"
     ]
    },
    {
     "name": "stderr",
     "output_type": "stream",
     "text": [
      "Epoch 66/200: 100%|██████████| 75/75 [00:00<00:00, 284.30it/s]\n",
      "Epoch 67/200:  40%|████      | 30/75 [00:00<00:00, 291.02it/s]"
     ]
    },
    {
     "name": "stdout",
     "output_type": "stream",
     "text": [
      "Epoch [66/200], Loss: 527557.6271, Train Accuracy: 0.0000, Test Accuracy: 0.0000\n"
     ]
    },
    {
     "name": "stderr",
     "output_type": "stream",
     "text": [
      "Epoch 67/200: 100%|██████████| 75/75 [00:00<00:00, 286.98it/s]\n",
      "Epoch 68/200:  39%|███▊      | 29/75 [00:00<00:00, 289.56it/s]"
     ]
    },
    {
     "name": "stdout",
     "output_type": "stream",
     "text": [
      "Epoch [67/200], Loss: 507038.2758, Train Accuracy: 0.0000, Test Accuracy: 0.0000\n"
     ]
    },
    {
     "name": "stderr",
     "output_type": "stream",
     "text": [
      "Epoch 68/200: 100%|██████████| 75/75 [00:00<00:00, 284.38it/s]\n",
      "Epoch 69/200:  37%|███▋      | 28/75 [00:00<00:00, 279.24it/s]"
     ]
    },
    {
     "name": "stdout",
     "output_type": "stream",
     "text": [
      "Epoch [68/200], Loss: 486669.7967, Train Accuracy: 0.0000, Test Accuracy: 0.0000\n"
     ]
    },
    {
     "name": "stderr",
     "output_type": "stream",
     "text": [
      "Epoch 69/200: 100%|██████████| 75/75 [00:00<00:00, 287.33it/s]\n",
      "Epoch 70/200:  39%|███▊      | 29/75 [00:00<00:00, 281.63it/s]"
     ]
    },
    {
     "name": "stdout",
     "output_type": "stream",
     "text": [
      "Epoch [69/200], Loss: 466656.6717, Train Accuracy: 0.0000, Test Accuracy: 0.0000\n"
     ]
    },
    {
     "name": "stderr",
     "output_type": "stream",
     "text": [
      "Epoch 70/200: 100%|██████████| 75/75 [00:00<00:00, 281.82it/s]\n",
      "Epoch 71/200:  39%|███▊      | 29/75 [00:00<00:00, 289.74it/s]"
     ]
    },
    {
     "name": "stdout",
     "output_type": "stream",
     "text": [
      "Epoch [70/200], Loss: 446770.9750, Train Accuracy: 0.0000, Test Accuracy: 0.0000\n"
     ]
    },
    {
     "name": "stderr",
     "output_type": "stream",
     "text": [
      "Epoch 71/200: 100%|██████████| 75/75 [00:00<00:00, 287.69it/s]\n",
      "Epoch 72/200:  79%|███████▊  | 59/75 [00:00<00:00, 285.44it/s]"
     ]
    },
    {
     "name": "stdout",
     "output_type": "stream",
     "text": [
      "Epoch [71/200], Loss: 427535.8904, Train Accuracy: 0.0000, Test Accuracy: 0.0000\n"
     ]
    },
    {
     "name": "stderr",
     "output_type": "stream",
     "text": [
      "Epoch 72/200: 100%|██████████| 75/75 [00:00<00:00, 284.53it/s]\n",
      "Epoch 73/200:  39%|███▊      | 29/75 [00:00<00:00, 279.64it/s]"
     ]
    },
    {
     "name": "stdout",
     "output_type": "stream",
     "text": [
      "Epoch [72/200], Loss: 408253.9167, Train Accuracy: 0.0000, Test Accuracy: 0.0000\n"
     ]
    },
    {
     "name": "stderr",
     "output_type": "stream",
     "text": [
      "Epoch 73/200: 100%|██████████| 75/75 [00:00<00:00, 279.37it/s]\n",
      "Epoch 74/200:  40%|████      | 30/75 [00:00<00:00, 282.35it/s]"
     ]
    },
    {
     "name": "stdout",
     "output_type": "stream",
     "text": [
      "Epoch [73/200], Loss: 389564.7554, Train Accuracy: 0.0000, Test Accuracy: 0.0000\n"
     ]
    },
    {
     "name": "stderr",
     "output_type": "stream",
     "text": [
      "Epoch 74/200: 100%|██████████| 75/75 [00:00<00:00, 280.46it/s]\n",
      "Epoch 75/200:  36%|███▌      | 27/75 [00:00<00:00, 260.16it/s]"
     ]
    },
    {
     "name": "stdout",
     "output_type": "stream",
     "text": [
      "Epoch [74/200], Loss: 371191.6192, Train Accuracy: 0.0000, Test Accuracy: 0.0000\n"
     ]
    },
    {
     "name": "stderr",
     "output_type": "stream",
     "text": [
      "Epoch 75/200: 100%|██████████| 75/75 [00:00<00:00, 264.66it/s]\n",
      "Epoch 76/200:  40%|████      | 30/75 [00:00<00:00, 283.06it/s]"
     ]
    },
    {
     "name": "stdout",
     "output_type": "stream",
     "text": [
      "Epoch [75/200], Loss: 353143.7812, Train Accuracy: 0.0000, Test Accuracy: 0.0000\n"
     ]
    },
    {
     "name": "stderr",
     "output_type": "stream",
     "text": [
      "Epoch 76/200: 100%|██████████| 75/75 [00:00<00:00, 291.43it/s]\n",
      "Epoch 77/200:  77%|███████▋  | 58/75 [00:00<00:00, 287.82it/s]"
     ]
    },
    {
     "name": "stdout",
     "output_type": "stream",
     "text": [
      "Epoch [76/200], Loss: 335492.9888, Train Accuracy: 0.0000, Test Accuracy: 0.0000\n"
     ]
    },
    {
     "name": "stderr",
     "output_type": "stream",
     "text": [
      "Epoch 77/200: 100%|██████████| 75/75 [00:00<00:00, 286.26it/s]\n",
      "Epoch 78/200:  40%|████      | 30/75 [00:00<00:00, 286.84it/s]"
     ]
    },
    {
     "name": "stdout",
     "output_type": "stream",
     "text": [
      "Epoch [77/200], Loss: 318365.6046, Train Accuracy: 0.0000, Test Accuracy: 0.0000\n"
     ]
    },
    {
     "name": "stderr",
     "output_type": "stream",
     "text": [
      "Epoch 78/200: 100%|██████████| 75/75 [00:00<00:00, 279.31it/s]\n",
      "Epoch 79/200:  40%|████      | 30/75 [00:00<00:00, 292.48it/s]"
     ]
    },
    {
     "name": "stdout",
     "output_type": "stream",
     "text": [
      "Epoch [78/200], Loss: 301852.3775, Train Accuracy: 0.0000, Test Accuracy: 0.0000\n"
     ]
    },
    {
     "name": "stderr",
     "output_type": "stream",
     "text": [
      "Epoch 79/200: 100%|██████████| 75/75 [00:00<00:00, 291.61it/s]\n",
      "Epoch 80/200:  79%|███████▊  | 59/75 [00:00<00:00, 293.31it/s]"
     ]
    },
    {
     "name": "stdout",
     "output_type": "stream",
     "text": [
      "Epoch [79/200], Loss: 285565.0321, Train Accuracy: 0.0000, Test Accuracy: 0.0000\n"
     ]
    },
    {
     "name": "stderr",
     "output_type": "stream",
     "text": [
      "Epoch 80/200: 100%|██████████| 75/75 [00:00<00:00, 285.68it/s]\n",
      "Epoch 81/200:  79%|███████▊  | 59/75 [00:00<00:00, 292.27it/s]"
     ]
    },
    {
     "name": "stdout",
     "output_type": "stream",
     "text": [
      "Epoch [80/200], Loss: 269702.2783, Train Accuracy: 0.0000, Test Accuracy: 0.0000\n"
     ]
    },
    {
     "name": "stderr",
     "output_type": "stream",
     "text": [
      "Epoch 81/200: 100%|██████████| 75/75 [00:00<00:00, 286.76it/s]\n",
      "Epoch 82/200:  33%|███▎      | 25/75 [00:00<00:00, 247.23it/s]"
     ]
    },
    {
     "name": "stdout",
     "output_type": "stream",
     "text": [
      "Epoch [81/200], Loss: 254526.5423, Train Accuracy: 0.0000, Test Accuracy: 0.0000\n"
     ]
    },
    {
     "name": "stderr",
     "output_type": "stream",
     "text": [
      "Epoch 82/200: 100%|██████████| 75/75 [00:00<00:00, 270.21it/s]\n",
      "Epoch 83/200:  79%|███████▊  | 59/75 [00:00<00:00, 287.56it/s]"
     ]
    },
    {
     "name": "stdout",
     "output_type": "stream",
     "text": [
      "Epoch [82/200], Loss: 239594.2056, Train Accuracy: 0.0000, Test Accuracy: 0.0000\n"
     ]
    },
    {
     "name": "stderr",
     "output_type": "stream",
     "text": [
      "Epoch 83/200: 100%|██████████| 75/75 [00:00<00:00, 285.68it/s]\n",
      "Epoch 84/200:  39%|███▊      | 29/75 [00:00<00:00, 287.77it/s]"
     ]
    },
    {
     "name": "stdout",
     "output_type": "stream",
     "text": [
      "Epoch [83/200], Loss: 225252.3915, Train Accuracy: 0.0000, Test Accuracy: 0.0000\n"
     ]
    },
    {
     "name": "stderr",
     "output_type": "stream",
     "text": [
      "Epoch 84/200: 100%|██████████| 75/75 [00:00<00:00, 285.31it/s]\n",
      "Epoch 85/200:  80%|████████  | 60/75 [00:00<00:00, 290.04it/s]"
     ]
    },
    {
     "name": "stdout",
     "output_type": "stream",
     "text": [
      "Epoch [84/200], Loss: 211379.1967, Train Accuracy: 0.0000, Test Accuracy: 0.0000\n"
     ]
    },
    {
     "name": "stderr",
     "output_type": "stream",
     "text": [
      "Epoch 85/200: 100%|██████████| 75/75 [00:00<00:00, 285.89it/s]\n",
      "Epoch 86/200:  39%|███▊      | 29/75 [00:00<00:00, 286.48it/s]"
     ]
    },
    {
     "name": "stdout",
     "output_type": "stream",
     "text": [
      "Epoch [85/200], Loss: 198224.2044, Train Accuracy: 0.0000, Test Accuracy: 0.0000\n"
     ]
    },
    {
     "name": "stderr",
     "output_type": "stream",
     "text": [
      "Epoch 86/200: 100%|██████████| 75/75 [00:00<00:00, 284.94it/s]\n",
      "Epoch 87/200:  40%|████      | 30/75 [00:00<00:00, 297.62it/s]"
     ]
    },
    {
     "name": "stdout",
     "output_type": "stream",
     "text": [
      "Epoch [86/200], Loss: 185444.5602, Train Accuracy: 0.0000, Test Accuracy: 0.0000\n"
     ]
    },
    {
     "name": "stderr",
     "output_type": "stream",
     "text": [
      "Epoch 87/200: 100%|██████████| 75/75 [00:00<00:00, 283.14it/s]\n",
      "Epoch 88/200:  39%|███▊      | 29/75 [00:00<00:00, 279.93it/s]"
     ]
    },
    {
     "name": "stdout",
     "output_type": "stream",
     "text": [
      "Epoch [87/200], Loss: 173193.8052, Train Accuracy: 0.0000, Test Accuracy: 0.0000\n"
     ]
    },
    {
     "name": "stderr",
     "output_type": "stream",
     "text": [
      "Epoch 88/200: 100%|██████████| 75/75 [00:00<00:00, 269.99it/s]\n",
      "Epoch 89/200:  77%|███████▋  | 58/75 [00:00<00:00, 278.99it/s]"
     ]
    },
    {
     "name": "stdout",
     "output_type": "stream",
     "text": [
      "Epoch [88/200], Loss: 161479.2694, Train Accuracy: 0.0000, Test Accuracy: 0.0000\n"
     ]
    },
    {
     "name": "stderr",
     "output_type": "stream",
     "text": [
      "Epoch 89/200: 100%|██████████| 75/75 [00:00<00:00, 278.43it/s]\n",
      "Epoch 90/200:  40%|████      | 30/75 [00:00<00:00, 288.19it/s]"
     ]
    },
    {
     "name": "stdout",
     "output_type": "stream",
     "text": [
      "Epoch [89/200], Loss: 150361.6927, Train Accuracy: 0.0000, Test Accuracy: 0.0000\n"
     ]
    },
    {
     "name": "stderr",
     "output_type": "stream",
     "text": [
      "Epoch 90/200: 100%|██████████| 75/75 [00:00<00:00, 285.39it/s]\n",
      "Epoch 91/200:  80%|████████  | 60/75 [00:00<00:00, 288.07it/s]"
     ]
    },
    {
     "name": "stdout",
     "output_type": "stream",
     "text": [
      "Epoch [90/200], Loss: 139695.3326, Train Accuracy: 0.0000, Test Accuracy: 0.0000\n"
     ]
    },
    {
     "name": "stderr",
     "output_type": "stream",
     "text": [
      "Epoch 91/200: 100%|██████████| 75/75 [00:00<00:00, 287.63it/s]\n",
      "Epoch 92/200:  40%|████      | 30/75 [00:00<00:00, 291.33it/s]"
     ]
    },
    {
     "name": "stdout",
     "output_type": "stream",
     "text": [
      "Epoch [91/200], Loss: 129650.9394, Train Accuracy: 0.0000, Test Accuracy: 0.0000\n"
     ]
    },
    {
     "name": "stderr",
     "output_type": "stream",
     "text": [
      "Epoch 92/200: 100%|██████████| 75/75 [00:00<00:00, 280.71it/s]\n",
      "Epoch 93/200:  77%|███████▋  | 58/75 [00:00<00:00, 285.14it/s]"
     ]
    },
    {
     "name": "stdout",
     "output_type": "stream",
     "text": [
      "Epoch [92/200], Loss: 120040.9074, Train Accuracy: 0.0000, Test Accuracy: 0.0000\n"
     ]
    },
    {
     "name": "stderr",
     "output_type": "stream",
     "text": [
      "Epoch 93/200: 100%|██████████| 75/75 [00:00<00:00, 289.92it/s]\n",
      "Epoch 94/200:  76%|███████▌  | 57/75 [00:00<00:00, 281.81it/s]"
     ]
    },
    {
     "name": "stdout",
     "output_type": "stream",
     "text": [
      "Epoch [93/200], Loss: 110998.4484, Train Accuracy: 0.0000, Test Accuracy: 0.0000\n"
     ]
    },
    {
     "name": "stderr",
     "output_type": "stream",
     "text": [
      "Epoch 94/200: 100%|██████████| 75/75 [00:00<00:00, 279.33it/s]\n",
      "Epoch 95/200:  39%|███▊      | 29/75 [00:00<00:00, 289.68it/s]"
     ]
    },
    {
     "name": "stdout",
     "output_type": "stream",
     "text": [
      "Epoch [94/200], Loss: 102544.7873, Train Accuracy: 0.0000, Test Accuracy: 0.0000\n"
     ]
    },
    {
     "name": "stderr",
     "output_type": "stream",
     "text": [
      "Epoch 95/200: 100%|██████████| 75/75 [00:00<00:00, 285.60it/s]\n",
      "Epoch 96/200:  77%|███████▋  | 58/75 [00:00<00:00, 280.48it/s]"
     ]
    },
    {
     "name": "stdout",
     "output_type": "stream",
     "text": [
      "Epoch [95/200], Loss: 94470.1989, Train Accuracy: 0.0000, Test Accuracy: 0.0000\n"
     ]
    },
    {
     "name": "stderr",
     "output_type": "stream",
     "text": [
      "Epoch 96/200: 100%|██████████| 75/75 [00:00<00:00, 279.30it/s]\n",
      "Epoch 97/200:  73%|███████▎  | 55/75 [00:00<00:00, 268.50it/s]"
     ]
    },
    {
     "name": "stdout",
     "output_type": "stream",
     "text": [
      "Epoch [96/200], Loss: 86906.8791, Train Accuracy: 0.0000, Test Accuracy: 0.0000\n"
     ]
    },
    {
     "name": "stderr",
     "output_type": "stream",
     "text": [
      "Epoch 97/200: 100%|██████████| 75/75 [00:00<00:00, 264.32it/s]\n",
      "Epoch 98/200:  40%|████      | 30/75 [00:00<00:00, 284.40it/s]"
     ]
    },
    {
     "name": "stdout",
     "output_type": "stream",
     "text": [
      "Epoch [97/200], Loss: 79837.9654, Train Accuracy: 0.0000, Test Accuracy: 0.0000\n"
     ]
    },
    {
     "name": "stderr",
     "output_type": "stream",
     "text": [
      "Epoch 98/200: 100%|██████████| 75/75 [00:00<00:00, 282.97it/s]\n",
      "Epoch 99/200:  40%|████      | 30/75 [00:00<00:00, 290.44it/s]"
     ]
    },
    {
     "name": "stdout",
     "output_type": "stream",
     "text": [
      "Epoch [98/200], Loss: 73401.5917, Train Accuracy: 0.0000, Test Accuracy: 0.0000\n"
     ]
    },
    {
     "name": "stderr",
     "output_type": "stream",
     "text": [
      "Epoch 99/200: 100%|██████████| 75/75 [00:00<00:00, 285.37it/s]\n",
      "Epoch 100/200:  39%|███▊      | 29/75 [00:00<00:00, 283.88it/s]"
     ]
    },
    {
     "name": "stdout",
     "output_type": "stream",
     "text": [
      "Epoch [99/200], Loss: 69800.5414, Train Accuracy: 0.0000, Test Accuracy: 0.0000\n"
     ]
    },
    {
     "name": "stderr",
     "output_type": "stream",
     "text": [
      "Epoch 100/200: 100%|██████████| 75/75 [00:00<00:00, 285.85it/s]\n",
      "Epoch 101/200:  39%|███▊      | 29/75 [00:00<00:00, 288.35it/s]"
     ]
    },
    {
     "name": "stdout",
     "output_type": "stream",
     "text": [
      "Epoch [100/200], Loss: 62796.0693, Train Accuracy: 0.0000, Test Accuracy: 0.0000\n"
     ]
    },
    {
     "name": "stderr",
     "output_type": "stream",
     "text": [
      "Epoch 101/200: 100%|██████████| 75/75 [00:00<00:00, 281.79it/s]\n",
      "Epoch 102/200:  77%|███████▋  | 58/75 [00:00<00:00, 278.48it/s]"
     ]
    },
    {
     "name": "stdout",
     "output_type": "stream",
     "text": [
      "Epoch [101/200], Loss: 56819.2619, Train Accuracy: 0.0000, Test Accuracy: 0.0000\n"
     ]
    },
    {
     "name": "stderr",
     "output_type": "stream",
     "text": [
      "Epoch 102/200: 100%|██████████| 75/75 [00:00<00:00, 282.56it/s]\n",
      "Epoch 103/200:  39%|███▊      | 29/75 [00:00<00:00, 281.87it/s]"
     ]
    },
    {
     "name": "stdout",
     "output_type": "stream",
     "text": [
      "Epoch [102/200], Loss: 51937.9253, Train Accuracy: 0.0000, Test Accuracy: 0.0000\n"
     ]
    },
    {
     "name": "stderr",
     "output_type": "stream",
     "text": [
      "Epoch 103/200: 100%|██████████| 75/75 [00:00<00:00, 282.61it/s]\n",
      "Epoch 104/200:  39%|███▊      | 29/75 [00:00<00:00, 283.89it/s]"
     ]
    },
    {
     "name": "stdout",
     "output_type": "stream",
     "text": [
      "Epoch [103/200], Loss: 47499.0472, Train Accuracy: 0.0000, Test Accuracy: 0.0000\n"
     ]
    },
    {
     "name": "stderr",
     "output_type": "stream",
     "text": [
      "Epoch 104/200: 100%|██████████| 75/75 [00:00<00:00, 283.63it/s]\n",
      "Epoch 105/200:  39%|███▊      | 29/75 [00:00<00:00, 275.48it/s]"
     ]
    },
    {
     "name": "stdout",
     "output_type": "stream",
     "text": [
      "Epoch [104/200], Loss: 43457.4938, Train Accuracy: 0.0000, Test Accuracy: 0.0000\n"
     ]
    },
    {
     "name": "stderr",
     "output_type": "stream",
     "text": [
      "Epoch 105/200: 100%|██████████| 75/75 [00:00<00:00, 279.92it/s]\n",
      "Epoch 106/200:  79%|███████▊  | 59/75 [00:00<00:00, 284.96it/s]"
     ]
    },
    {
     "name": "stdout",
     "output_type": "stream",
     "text": [
      "Epoch [105/200], Loss: 39894.1770, Train Accuracy: 0.0000, Test Accuracy: 0.0000\n"
     ]
    },
    {
     "name": "stderr",
     "output_type": "stream",
     "text": [
      "Epoch 106/200: 100%|██████████| 75/75 [00:00<00:00, 281.15it/s]\n",
      "Epoch 107/200:  79%|███████▊  | 59/75 [00:00<00:00, 283.52it/s]"
     ]
    },
    {
     "name": "stdout",
     "output_type": "stream",
     "text": [
      "Epoch [106/200], Loss: 36627.8134, Train Accuracy: 0.0000, Test Accuracy: 0.0000\n"
     ]
    },
    {
     "name": "stderr",
     "output_type": "stream",
     "text": [
      "Epoch 107/200: 100%|██████████| 75/75 [00:00<00:00, 273.18it/s]\n",
      "Epoch 108/200:  77%|███████▋  | 58/75 [00:00<00:00, 280.91it/s]"
     ]
    },
    {
     "name": "stdout",
     "output_type": "stream",
     "text": [
      "Epoch [107/200], Loss: 33590.2151, Train Accuracy: 0.0000, Test Accuracy: 0.0000\n"
     ]
    },
    {
     "name": "stderr",
     "output_type": "stream",
     "text": [
      "Epoch 108/200: 100%|██████████| 75/75 [00:00<00:00, 280.71it/s]\n",
      "Epoch 109/200:  40%|████      | 30/75 [00:00<00:00, 290.72it/s]"
     ]
    },
    {
     "name": "stdout",
     "output_type": "stream",
     "text": [
      "Epoch [108/200], Loss: 31612.9121, Train Accuracy: 0.0000, Test Accuracy: 0.0000\n"
     ]
    },
    {
     "name": "stderr",
     "output_type": "stream",
     "text": [
      "Epoch 109/200: 100%|██████████| 75/75 [00:00<00:00, 283.66it/s]\n",
      "Epoch 110/200:  39%|███▊      | 29/75 [00:00<00:00, 282.84it/s]"
     ]
    },
    {
     "name": "stdout",
     "output_type": "stream",
     "text": [
      "Epoch [109/200], Loss: 28892.0126, Train Accuracy: 0.0000, Test Accuracy: 0.0000\n"
     ]
    },
    {
     "name": "stderr",
     "output_type": "stream",
     "text": [
      "Epoch 110/200: 100%|██████████| 75/75 [00:00<00:00, 279.72it/s]\n",
      "Epoch 111/200:  39%|███▊      | 29/75 [00:00<00:00, 274.17it/s]"
     ]
    },
    {
     "name": "stdout",
     "output_type": "stream",
     "text": [
      "Epoch [110/200], Loss: 26901.5578, Train Accuracy: 0.0000, Test Accuracy: 0.0000\n"
     ]
    },
    {
     "name": "stderr",
     "output_type": "stream",
     "text": [
      "Epoch 111/200: 100%|██████████| 75/75 [00:00<00:00, 278.50it/s]\n",
      "Epoch 112/200:  40%|████      | 30/75 [00:00<00:00, 288.90it/s]"
     ]
    },
    {
     "name": "stdout",
     "output_type": "stream",
     "text": [
      "Epoch [111/200], Loss: 24996.9581, Train Accuracy: 0.0000, Test Accuracy: 0.0000\n"
     ]
    },
    {
     "name": "stderr",
     "output_type": "stream",
     "text": [
      "Epoch 112/200: 100%|██████████| 75/75 [00:00<00:00, 277.06it/s]\n",
      "Epoch 113/200:  40%|████      | 30/75 [00:00<00:00, 288.24it/s]"
     ]
    },
    {
     "name": "stdout",
     "output_type": "stream",
     "text": [
      "Epoch [112/200], Loss: 23516.3706, Train Accuracy: 0.0000, Test Accuracy: 0.0000\n"
     ]
    },
    {
     "name": "stderr",
     "output_type": "stream",
     "text": [
      "Epoch 113/200: 100%|██████████| 75/75 [00:00<00:00, 282.52it/s]\n",
      "Epoch 114/200:  40%|████      | 30/75 [00:00<00:00, 289.06it/s]"
     ]
    },
    {
     "name": "stdout",
     "output_type": "stream",
     "text": [
      "Epoch [113/200], Loss: 22065.2693, Train Accuracy: 0.0000, Test Accuracy: 0.0000\n"
     ]
    },
    {
     "name": "stderr",
     "output_type": "stream",
     "text": [
      "Epoch 114/200: 100%|██████████| 75/75 [00:00<00:00, 276.33it/s]\n",
      "Epoch 115/200:  79%|███████▊  | 59/75 [00:00<00:00, 290.43it/s]"
     ]
    },
    {
     "name": "stdout",
     "output_type": "stream",
     "text": [
      "Epoch [114/200], Loss: 20842.6026, Train Accuracy: 0.0000, Test Accuracy: 0.0000\n"
     ]
    },
    {
     "name": "stderr",
     "output_type": "stream",
     "text": [
      "Epoch 115/200: 100%|██████████| 75/75 [00:00<00:00, 286.96it/s]\n",
      "Epoch 116/200:  39%|███▊      | 29/75 [00:00<00:00, 281.39it/s]"
     ]
    },
    {
     "name": "stdout",
     "output_type": "stream",
     "text": [
      "Epoch [115/200], Loss: 20036.4458, Train Accuracy: 0.0000, Test Accuracy: 0.0000\n"
     ]
    },
    {
     "name": "stderr",
     "output_type": "stream",
     "text": [
      "Epoch 116/200: 100%|██████████| 75/75 [00:00<00:00, 283.66it/s]\n",
      "Epoch 117/200:  39%|███▊      | 29/75 [00:00<00:00, 286.80it/s]"
     ]
    },
    {
     "name": "stdout",
     "output_type": "stream",
     "text": [
      "Epoch [116/200], Loss: 19097.8990, Train Accuracy: 0.0000, Test Accuracy: 0.0000\n"
     ]
    },
    {
     "name": "stderr",
     "output_type": "stream",
     "text": [
      "Epoch 117/200: 100%|██████████| 75/75 [00:00<00:00, 287.29it/s]\n",
      "Epoch 118/200:  39%|███▊      | 29/75 [00:00<00:00, 287.36it/s]"
     ]
    },
    {
     "name": "stdout",
     "output_type": "stream",
     "text": [
      "Epoch [117/200], Loss: 18169.6065, Train Accuracy: 0.0000, Test Accuracy: 0.0000\n"
     ]
    },
    {
     "name": "stderr",
     "output_type": "stream",
     "text": [
      "Epoch 118/200: 100%|██████████| 75/75 [00:00<00:00, 283.81it/s]\n",
      "Epoch 119/200:  36%|███▌      | 27/75 [00:00<00:00, 263.59it/s]"
     ]
    },
    {
     "name": "stdout",
     "output_type": "stream",
     "text": [
      "Epoch [118/200], Loss: 17662.8859, Train Accuracy: 0.0000, Test Accuracy: 0.0000\n"
     ]
    },
    {
     "name": "stderr",
     "output_type": "stream",
     "text": [
      "Epoch 119/200: 100%|██████████| 75/75 [00:00<00:00, 258.92it/s]\n",
      "Epoch 120/200:  75%|███████▍  | 56/75 [00:00<00:00, 272.86it/s]"
     ]
    },
    {
     "name": "stdout",
     "output_type": "stream",
     "text": [
      "Epoch [119/200], Loss: 17126.2229, Train Accuracy: 0.0000, Test Accuracy: 0.0000\n"
     ]
    },
    {
     "name": "stderr",
     "output_type": "stream",
     "text": [
      "Epoch 120/200: 100%|██████████| 75/75 [00:00<00:00, 273.19it/s]\n",
      "Epoch 121/200:  79%|███████▊  | 59/75 [00:00<00:00, 290.47it/s]"
     ]
    },
    {
     "name": "stdout",
     "output_type": "stream",
     "text": [
      "Epoch [120/200], Loss: 17721.3540, Train Accuracy: 0.0000, Test Accuracy: 0.0000\n"
     ]
    },
    {
     "name": "stderr",
     "output_type": "stream",
     "text": [
      "Epoch 121/200: 100%|██████████| 75/75 [00:00<00:00, 288.31it/s]\n",
      "Epoch 122/200:  41%|████▏     | 31/75 [00:00<00:00, 290.22it/s]"
     ]
    },
    {
     "name": "stdout",
     "output_type": "stream",
     "text": [
      "Epoch [121/200], Loss: 20884.8117, Train Accuracy: 0.0000, Test Accuracy: 0.0000\n"
     ]
    },
    {
     "name": "stderr",
     "output_type": "stream",
     "text": [
      "Epoch 122/200: 100%|██████████| 75/75 [00:00<00:00, 287.85it/s]\n",
      "Epoch 123/200:  79%|███████▊  | 59/75 [00:00<00:00, 286.83it/s]"
     ]
    },
    {
     "name": "stdout",
     "output_type": "stream",
     "text": [
      "Epoch [122/200], Loss: 18032.4377, Train Accuracy: 0.0000, Test Accuracy: 0.0000\n"
     ]
    },
    {
     "name": "stderr",
     "output_type": "stream",
     "text": [
      "Epoch 123/200: 100%|██████████| 75/75 [00:00<00:00, 287.80it/s]\n",
      "Epoch 124/200:  76%|███████▌  | 57/75 [00:00<00:00, 284.40it/s]"
     ]
    },
    {
     "name": "stdout",
     "output_type": "stream",
     "text": [
      "Epoch [123/200], Loss: 16868.7125, Train Accuracy: 0.0000, Test Accuracy: 0.0000\n"
     ]
    },
    {
     "name": "stderr",
     "output_type": "stream",
     "text": [
      "Epoch 124/200: 100%|██████████| 75/75 [00:00<00:00, 281.97it/s]\n",
      "Epoch 125/200:  39%|███▊      | 29/75 [00:00<00:00, 288.02it/s]"
     ]
    },
    {
     "name": "stdout",
     "output_type": "stream",
     "text": [
      "Epoch [124/200], Loss: 16372.0778, Train Accuracy: 0.0000, Test Accuracy: 0.0000\n"
     ]
    },
    {
     "name": "stderr",
     "output_type": "stream",
     "text": [
      "Epoch 125/200: 100%|██████████| 75/75 [00:00<00:00, 281.82it/s]\n",
      "Epoch 126/200:  40%|████      | 30/75 [00:00<00:00, 283.10it/s]"
     ]
    },
    {
     "name": "stdout",
     "output_type": "stream",
     "text": [
      "Epoch [125/200], Loss: 16064.5034, Train Accuracy: 0.0000, Test Accuracy: 0.0000\n"
     ]
    },
    {
     "name": "stderr",
     "output_type": "stream",
     "text": [
      "Epoch 126/200: 100%|██████████| 75/75 [00:00<00:00, 283.35it/s]\n",
      "Epoch 127/200:  40%|████      | 30/75 [00:00<00:00, 288.23it/s]"
     ]
    },
    {
     "name": "stdout",
     "output_type": "stream",
     "text": [
      "Epoch [126/200], Loss: 15895.9382, Train Accuracy: 0.0000, Test Accuracy: 0.0000\n"
     ]
    },
    {
     "name": "stderr",
     "output_type": "stream",
     "text": [
      "Epoch 127/200: 100%|██████████| 75/75 [00:00<00:00, 285.30it/s]\n",
      "Epoch 128/200:  40%|████      | 30/75 [00:00<00:00, 291.15it/s]"
     ]
    },
    {
     "name": "stdout",
     "output_type": "stream",
     "text": [
      "Epoch [127/200], Loss: 15651.6686, Train Accuracy: 0.0000, Test Accuracy: 0.0000\n"
     ]
    },
    {
     "name": "stderr",
     "output_type": "stream",
     "text": [
      "Epoch 128/200: 100%|██████████| 75/75 [00:00<00:00, 274.56it/s]\n",
      "Epoch 129/200:  39%|███▊      | 29/75 [00:00<00:00, 280.21it/s]"
     ]
    },
    {
     "name": "stdout",
     "output_type": "stream",
     "text": [
      "Epoch [128/200], Loss: 15717.9594, Train Accuracy: 0.0000, Test Accuracy: 0.0000\n"
     ]
    },
    {
     "name": "stderr",
     "output_type": "stream",
     "text": [
      "Epoch 129/200: 100%|██████████| 75/75 [00:00<00:00, 278.86it/s]\n",
      "Epoch 130/200:  37%|███▋      | 28/75 [00:00<00:00, 279.40it/s]"
     ]
    },
    {
     "name": "stdout",
     "output_type": "stream",
     "text": [
      "Epoch [129/200], Loss: 15550.0809, Train Accuracy: 0.0000, Test Accuracy: 0.0000\n"
     ]
    },
    {
     "name": "stderr",
     "output_type": "stream",
     "text": [
      "Epoch 130/200: 100%|██████████| 75/75 [00:00<00:00, 279.87it/s]\n",
      "Epoch 131/200:  40%|████      | 30/75 [00:00<00:00, 287.76it/s]"
     ]
    },
    {
     "name": "stdout",
     "output_type": "stream",
     "text": [
      "Epoch [130/200], Loss: 15385.2612, Train Accuracy: 0.0000, Test Accuracy: 0.0000\n"
     ]
    },
    {
     "name": "stderr",
     "output_type": "stream",
     "text": [
      "Epoch 131/200: 100%|██████████| 75/75 [00:00<00:00, 284.39it/s]\n",
      "Epoch 132/200:  39%|███▊      | 29/75 [00:00<00:00, 288.89it/s]"
     ]
    },
    {
     "name": "stdout",
     "output_type": "stream",
     "text": [
      "Epoch [131/200], Loss: 15383.2164, Train Accuracy: 0.0000, Test Accuracy: 0.0000\n"
     ]
    },
    {
     "name": "stderr",
     "output_type": "stream",
     "text": [
      "Epoch 132/200: 100%|██████████| 75/75 [00:00<00:00, 283.81it/s]\n",
      "Epoch 133/200:  37%|███▋      | 28/75 [00:00<00:00, 277.61it/s]"
     ]
    },
    {
     "name": "stdout",
     "output_type": "stream",
     "text": [
      "Epoch [132/200], Loss: 15368.5578, Train Accuracy: 0.0000, Test Accuracy: 0.0000\n"
     ]
    },
    {
     "name": "stderr",
     "output_type": "stream",
     "text": [
      "Epoch 133/200: 100%|██████████| 75/75 [00:00<00:00, 281.24it/s]\n",
      "Epoch 134/200:  40%|████      | 30/75 [00:00<00:00, 289.98it/s]"
     ]
    },
    {
     "name": "stdout",
     "output_type": "stream",
     "text": [
      "Epoch [133/200], Loss: 15277.1661, Train Accuracy: 0.0000, Test Accuracy: 0.0000\n"
     ]
    },
    {
     "name": "stderr",
     "output_type": "stream",
     "text": [
      "Epoch 134/200: 100%|██████████| 75/75 [00:00<00:00, 287.20it/s]\n",
      "Epoch 135/200:  39%|███▊      | 29/75 [00:00<00:00, 279.31it/s]"
     ]
    },
    {
     "name": "stdout",
     "output_type": "stream",
     "text": [
      "Epoch [134/200], Loss: 15311.0700, Train Accuracy: 0.0000, Test Accuracy: 0.0000\n"
     ]
    },
    {
     "name": "stderr",
     "output_type": "stream",
     "text": [
      "Epoch 135/200: 100%|██████████| 75/75 [00:00<00:00, 279.66it/s]\n",
      "Epoch 136/200:  39%|███▊      | 29/75 [00:00<00:00, 287.05it/s]"
     ]
    },
    {
     "name": "stdout",
     "output_type": "stream",
     "text": [
      "Epoch [135/200], Loss: 15267.2004, Train Accuracy: 0.0000, Test Accuracy: 0.0000\n"
     ]
    },
    {
     "name": "stderr",
     "output_type": "stream",
     "text": [
      "Epoch 136/200: 100%|██████████| 75/75 [00:00<00:00, 281.84it/s]\n",
      "Epoch 137/200:  39%|███▊      | 29/75 [00:00<00:00, 286.38it/s]"
     ]
    },
    {
     "name": "stdout",
     "output_type": "stream",
     "text": [
      "Epoch [136/200], Loss: 15100.8478, Train Accuracy: 0.0000, Test Accuracy: 0.0000\n"
     ]
    },
    {
     "name": "stderr",
     "output_type": "stream",
     "text": [
      "Epoch 137/200: 100%|██████████| 75/75 [00:00<00:00, 285.07it/s]\n",
      "Epoch 138/200:  39%|███▊      | 29/75 [00:00<00:00, 281.68it/s]"
     ]
    },
    {
     "name": "stdout",
     "output_type": "stream",
     "text": [
      "Epoch [137/200], Loss: 15318.3082, Train Accuracy: 0.0000, Test Accuracy: 0.0000\n"
     ]
    },
    {
     "name": "stderr",
     "output_type": "stream",
     "text": [
      "Epoch 138/200: 100%|██████████| 75/75 [00:00<00:00, 280.52it/s]\n",
      "Epoch 139/200:  39%|███▊      | 29/75 [00:00<00:00, 282.60it/s]"
     ]
    },
    {
     "name": "stdout",
     "output_type": "stream",
     "text": [
      "Epoch [138/200], Loss: 18163.3014, Train Accuracy: 0.0000, Test Accuracy: 0.0000\n"
     ]
    },
    {
     "name": "stderr",
     "output_type": "stream",
     "text": [
      "Epoch 139/200: 100%|██████████| 75/75 [00:00<00:00, 282.66it/s]\n",
      "Epoch 140/200:  39%|███▊      | 29/75 [00:00<00:00, 286.69it/s]"
     ]
    },
    {
     "name": "stdout",
     "output_type": "stream",
     "text": [
      "Epoch [139/200], Loss: 18783.0408, Train Accuracy: 0.0000, Test Accuracy: 0.0000\n"
     ]
    },
    {
     "name": "stderr",
     "output_type": "stream",
     "text": [
      "Epoch 140/200: 100%|██████████| 75/75 [00:00<00:00, 282.22it/s]\n",
      "Epoch 141/200:  73%|███████▎  | 55/75 [00:00<00:00, 271.96it/s]"
     ]
    },
    {
     "name": "stdout",
     "output_type": "stream",
     "text": [
      "Epoch [140/200], Loss: 16132.0104, Train Accuracy: 0.0000, Test Accuracy: 0.0000\n"
     ]
    },
    {
     "name": "stderr",
     "output_type": "stream",
     "text": [
      "Epoch 141/200: 100%|██████████| 75/75 [00:00<00:00, 269.62it/s]\n",
      "Epoch 142/200:  36%|███▌      | 27/75 [00:00<00:00, 268.03it/s]"
     ]
    },
    {
     "name": "stdout",
     "output_type": "stream",
     "text": [
      "Epoch [141/200], Loss: 15589.4771, Train Accuracy: 0.0000, Test Accuracy: 0.0000\n"
     ]
    },
    {
     "name": "stderr",
     "output_type": "stream",
     "text": [
      "Epoch 142/200: 100%|██████████| 75/75 [00:00<00:00, 273.60it/s]\n",
      "Epoch 143/200:  39%|███▊      | 29/75 [00:00<00:00, 289.51it/s]"
     ]
    },
    {
     "name": "stdout",
     "output_type": "stream",
     "text": [
      "Epoch [142/200], Loss: 15355.4156, Train Accuracy: 0.0000, Test Accuracy: 0.0000\n"
     ]
    },
    {
     "name": "stderr",
     "output_type": "stream",
     "text": [
      "Epoch 143/200: 100%|██████████| 75/75 [00:00<00:00, 288.85it/s]\n",
      "Epoch 144/200:  39%|███▊      | 29/75 [00:00<00:00, 282.96it/s]"
     ]
    },
    {
     "name": "stdout",
     "output_type": "stream",
     "text": [
      "Epoch [143/200], Loss: 15148.6798, Train Accuracy: 0.0000, Test Accuracy: 0.0000\n"
     ]
    },
    {
     "name": "stderr",
     "output_type": "stream",
     "text": [
      "Epoch 144/200: 100%|██████████| 75/75 [00:00<00:00, 279.71it/s]\n",
      "Epoch 145/200:  39%|███▊      | 29/75 [00:00<00:00, 282.56it/s]"
     ]
    },
    {
     "name": "stdout",
     "output_type": "stream",
     "text": [
      "Epoch [144/200], Loss: 15224.5604, Train Accuracy: 0.0000, Test Accuracy: 0.0000\n"
     ]
    },
    {
     "name": "stderr",
     "output_type": "stream",
     "text": [
      "Epoch 145/200: 100%|██████████| 75/75 [00:00<00:00, 281.76it/s]\n",
      "Epoch 146/200:  40%|████      | 30/75 [00:00<00:00, 291.70it/s]"
     ]
    },
    {
     "name": "stdout",
     "output_type": "stream",
     "text": [
      "Epoch [145/200], Loss: 14974.7558, Train Accuracy: 0.0000, Test Accuracy: 0.0000\n"
     ]
    },
    {
     "name": "stderr",
     "output_type": "stream",
     "text": [
      "Epoch 146/200: 100%|██████████| 75/75 [00:00<00:00, 287.95it/s]\n",
      "Epoch 147/200:  39%|███▊      | 29/75 [00:00<00:00, 286.69it/s]"
     ]
    },
    {
     "name": "stdout",
     "output_type": "stream",
     "text": [
      "Epoch [146/200], Loss: 14788.6356, Train Accuracy: 0.0000, Test Accuracy: 0.0000\n"
     ]
    },
    {
     "name": "stderr",
     "output_type": "stream",
     "text": [
      "Epoch 147/200: 100%|██████████| 75/75 [00:00<00:00, 283.78it/s]\n",
      "Epoch 148/200:  39%|███▊      | 29/75 [00:00<00:00, 284.90it/s]"
     ]
    },
    {
     "name": "stdout",
     "output_type": "stream",
     "text": [
      "Epoch [147/200], Loss: 14803.7879, Train Accuracy: 0.0000, Test Accuracy: 0.0000\n"
     ]
    },
    {
     "name": "stderr",
     "output_type": "stream",
     "text": [
      "Epoch 148/200: 100%|██████████| 75/75 [00:00<00:00, 280.42it/s]\n",
      "Epoch 149/200:  39%|███▊      | 29/75 [00:00<00:00, 285.80it/s]"
     ]
    },
    {
     "name": "stdout",
     "output_type": "stream",
     "text": [
      "Epoch [148/200], Loss: 17351.1995, Train Accuracy: 0.0000, Test Accuracy: 0.0000\n"
     ]
    },
    {
     "name": "stderr",
     "output_type": "stream",
     "text": [
      "Epoch 149/200: 100%|██████████| 75/75 [00:00<00:00, 278.24it/s]\n",
      "Epoch 150/200:  39%|███▊      | 29/75 [00:00<00:00, 283.58it/s]"
     ]
    },
    {
     "name": "stdout",
     "output_type": "stream",
     "text": [
      "Epoch [149/200], Loss: 15128.0419, Train Accuracy: 0.0000, Test Accuracy: 0.0000\n"
     ]
    },
    {
     "name": "stderr",
     "output_type": "stream",
     "text": [
      "Epoch 150/200: 100%|██████████| 75/75 [00:00<00:00, 281.24it/s]\n",
      "Epoch 151/200:  77%|███████▋  | 58/75 [00:00<00:00, 285.41it/s]"
     ]
    },
    {
     "name": "stdout",
     "output_type": "stream",
     "text": [
      "Epoch [150/200], Loss: 14703.9407, Train Accuracy: 0.0000, Test Accuracy: 0.0000\n"
     ]
    },
    {
     "name": "stderr",
     "output_type": "stream",
     "text": [
      "Epoch 151/200: 100%|██████████| 75/75 [00:00<00:00, 282.73it/s]\n",
      "Epoch 152/200:  39%|███▊      | 29/75 [00:00<00:00, 289.81it/s]"
     ]
    },
    {
     "name": "stdout",
     "output_type": "stream",
     "text": [
      "Epoch [151/200], Loss: 14596.1694, Train Accuracy: 0.0000, Test Accuracy: 0.0000\n"
     ]
    },
    {
     "name": "stderr",
     "output_type": "stream",
     "text": [
      "Epoch 152/200: 100%|██████████| 75/75 [00:00<00:00, 284.99it/s]\n",
      "Epoch 153/200:  39%|███▊      | 29/75 [00:00<00:00, 284.50it/s]"
     ]
    },
    {
     "name": "stdout",
     "output_type": "stream",
     "text": [
      "Epoch [152/200], Loss: 14484.2563, Train Accuracy: 0.0000, Test Accuracy: 0.0000\n"
     ]
    },
    {
     "name": "stderr",
     "output_type": "stream",
     "text": [
      "Epoch 153/200: 100%|██████████| 75/75 [00:00<00:00, 284.75it/s]\n",
      "Epoch 154/200:  39%|███▊      | 29/75 [00:00<00:00, 283.29it/s]"
     ]
    },
    {
     "name": "stdout",
     "output_type": "stream",
     "text": [
      "Epoch [153/200], Loss: 14290.3153, Train Accuracy: 0.0000, Test Accuracy: 0.0000\n"
     ]
    },
    {
     "name": "stderr",
     "output_type": "stream",
     "text": [
      "Epoch 154/200: 100%|██████████| 75/75 [00:00<00:00, 278.22it/s]\n",
      "Epoch 155/200:  77%|███████▋  | 58/75 [00:00<00:00, 282.69it/s]"
     ]
    },
    {
     "name": "stdout",
     "output_type": "stream",
     "text": [
      "Epoch [154/200], Loss: 14252.0930, Train Accuracy: 0.0000, Test Accuracy: 0.0000\n"
     ]
    },
    {
     "name": "stderr",
     "output_type": "stream",
     "text": [
      "Epoch 155/200: 100%|██████████| 75/75 [00:00<00:00, 281.27it/s]\n",
      "Epoch 156/200:  77%|███████▋  | 58/75 [00:00<00:00, 282.10it/s]"
     ]
    },
    {
     "name": "stdout",
     "output_type": "stream",
     "text": [
      "Epoch [155/200], Loss: 14308.2556, Train Accuracy: 0.0000, Test Accuracy: 0.0000\n"
     ]
    },
    {
     "name": "stderr",
     "output_type": "stream",
     "text": [
      "Epoch 156/200: 100%|██████████| 75/75 [00:00<00:00, 270.61it/s]\n",
      "Epoch 157/200:  76%|███████▌  | 57/75 [00:00<00:00, 273.99it/s]"
     ]
    },
    {
     "name": "stdout",
     "output_type": "stream",
     "text": [
      "Epoch [156/200], Loss: 14118.5862, Train Accuracy: 0.0000, Test Accuracy: 0.0000\n"
     ]
    },
    {
     "name": "stderr",
     "output_type": "stream",
     "text": [
      "Epoch 157/200: 100%|██████████| 75/75 [00:00<00:00, 276.08it/s]\n",
      "Epoch 158/200:  39%|███▊      | 29/75 [00:00<00:00, 284.62it/s]"
     ]
    },
    {
     "name": "stdout",
     "output_type": "stream",
     "text": [
      "Epoch [157/200], Loss: 13927.4419, Train Accuracy: 0.0000, Test Accuracy: 0.0000\n"
     ]
    },
    {
     "name": "stderr",
     "output_type": "stream",
     "text": [
      "Epoch 158/200: 100%|██████████| 75/75 [00:00<00:00, 276.50it/s]\n",
      "Epoch 159/200:  39%|███▊      | 29/75 [00:00<00:00, 277.29it/s]"
     ]
    },
    {
     "name": "stdout",
     "output_type": "stream",
     "text": [
      "Epoch [158/200], Loss: 14029.3905, Train Accuracy: 0.0000, Test Accuracy: 0.0000\n"
     ]
    },
    {
     "name": "stderr",
     "output_type": "stream",
     "text": [
      "Epoch 159/200: 100%|██████████| 75/75 [00:00<00:00, 278.70it/s]\n",
      "Epoch 160/200:  76%|███████▌  | 57/75 [00:00<00:00, 278.81it/s]"
     ]
    },
    {
     "name": "stdout",
     "output_type": "stream",
     "text": [
      "Epoch [159/200], Loss: 13949.6756, Train Accuracy: 0.0000, Test Accuracy: 0.0000\n"
     ]
    },
    {
     "name": "stderr",
     "output_type": "stream",
     "text": [
      "Epoch 160/200: 100%|██████████| 75/75 [00:00<00:00, 276.14it/s]\n",
      "Epoch 161/200:  37%|███▋      | 28/75 [00:00<00:00, 276.66it/s]"
     ]
    },
    {
     "name": "stdout",
     "output_type": "stream",
     "text": [
      "Epoch [160/200], Loss: 13868.8482, Train Accuracy: 0.0000, Test Accuracy: 0.0000\n"
     ]
    },
    {
     "name": "stderr",
     "output_type": "stream",
     "text": [
      "Epoch 161/200: 100%|██████████| 75/75 [00:00<00:00, 276.07it/s]\n",
      "Epoch 162/200:  33%|███▎      | 25/75 [00:00<00:00, 249.03it/s]"
     ]
    },
    {
     "name": "stdout",
     "output_type": "stream",
     "text": [
      "Epoch [161/200], Loss: 13606.7751, Train Accuracy: 0.0000, Test Accuracy: 0.0000\n"
     ]
    },
    {
     "name": "stderr",
     "output_type": "stream",
     "text": [
      "Epoch 162/200: 100%|██████████| 75/75 [00:00<00:00, 243.59it/s]\n",
      "Epoch 163/200:  35%|███▍      | 26/75 [00:00<00:00, 257.78it/s]"
     ]
    },
    {
     "name": "stdout",
     "output_type": "stream",
     "text": [
      "Epoch [162/200], Loss: 13528.5854, Train Accuracy: 0.0000, Test Accuracy: 0.0000\n"
     ]
    },
    {
     "name": "stderr",
     "output_type": "stream",
     "text": [
      "Epoch 163/200: 100%|██████████| 75/75 [00:00<00:00, 263.32it/s]\n",
      "Epoch 164/200:  75%|███████▍  | 56/75 [00:00<00:00, 273.39it/s]"
     ]
    },
    {
     "name": "stdout",
     "output_type": "stream",
     "text": [
      "Epoch [163/200], Loss: 13509.8012, Train Accuracy: 0.0000, Test Accuracy: 0.0000\n"
     ]
    },
    {
     "name": "stderr",
     "output_type": "stream",
     "text": [
      "Epoch 164/200: 100%|██████████| 75/75 [00:00<00:00, 275.14it/s]\n",
      "Epoch 165/200:  37%|███▋      | 28/75 [00:00<00:00, 271.56it/s]"
     ]
    },
    {
     "name": "stdout",
     "output_type": "stream",
     "text": [
      "Epoch [164/200], Loss: 13261.9057, Train Accuracy: 0.0000, Test Accuracy: 0.0000\n"
     ]
    },
    {
     "name": "stderr",
     "output_type": "stream",
     "text": [
      "Epoch 165/200: 100%|██████████| 75/75 [00:00<00:00, 274.93it/s]\n",
      "Epoch 166/200:  71%|███████   | 53/75 [00:00<00:00, 267.89it/s]"
     ]
    },
    {
     "name": "stdout",
     "output_type": "stream",
     "text": [
      "Epoch [165/200], Loss: 13248.6186, Train Accuracy: 0.0000, Test Accuracy: 0.0000\n"
     ]
    },
    {
     "name": "stderr",
     "output_type": "stream",
     "text": [
      "Epoch 166/200: 100%|██████████| 75/75 [00:00<00:00, 256.41it/s]\n",
      "Epoch 167/200:  65%|██████▌   | 49/75 [00:00<00:00, 241.60it/s]"
     ]
    },
    {
     "name": "stdout",
     "output_type": "stream",
     "text": [
      "Epoch [166/200], Loss: 13108.0043, Train Accuracy: 0.0000, Test Accuracy: 0.0000\n"
     ]
    },
    {
     "name": "stderr",
     "output_type": "stream",
     "text": [
      "Epoch 167/200: 100%|██████████| 75/75 [00:00<00:00, 249.90it/s]\n",
      "Epoch 168/200:  36%|███▌      | 27/75 [00:00<00:00, 269.79it/s]"
     ]
    },
    {
     "name": "stdout",
     "output_type": "stream",
     "text": [
      "Epoch [167/200], Loss: 13004.6751, Train Accuracy: 0.0000, Test Accuracy: 0.0000\n"
     ]
    },
    {
     "name": "stderr",
     "output_type": "stream",
     "text": [
      "Epoch 168/200: 100%|██████████| 75/75 [00:00<00:00, 262.68it/s]\n",
      "Epoch 169/200:  36%|███▌      | 27/75 [00:00<00:00, 269.45it/s]"
     ]
    },
    {
     "name": "stdout",
     "output_type": "stream",
     "text": [
      "Epoch [168/200], Loss: 12700.3717, Train Accuracy: 0.0000, Test Accuracy: 0.0000\n"
     ]
    },
    {
     "name": "stderr",
     "output_type": "stream",
     "text": [
      "Epoch 169/200: 100%|██████████| 75/75 [00:00<00:00, 269.09it/s]\n",
      "Epoch 170/200:  36%|███▌      | 27/75 [00:00<00:00, 264.34it/s]"
     ]
    },
    {
     "name": "stdout",
     "output_type": "stream",
     "text": [
      "Epoch [169/200], Loss: 12573.9138, Train Accuracy: 0.0000, Test Accuracy: 0.0000\n"
     ]
    },
    {
     "name": "stderr",
     "output_type": "stream",
     "text": [
      "Epoch 170/200: 100%|██████████| 75/75 [00:00<00:00, 255.65it/s]\n",
      "Epoch 171/200:  75%|███████▍  | 56/75 [00:00<00:00, 273.62it/s]"
     ]
    },
    {
     "name": "stdout",
     "output_type": "stream",
     "text": [
      "Epoch [170/200], Loss: 12361.0734, Train Accuracy: 0.0000, Test Accuracy: 0.0000\n"
     ]
    },
    {
     "name": "stderr",
     "output_type": "stream",
     "text": [
      "Epoch 171/200: 100%|██████████| 75/75 [00:00<00:00, 283.32it/s]\n",
      "Epoch 172/200:  76%|███████▌  | 57/75 [00:00<00:00, 277.19it/s]"
     ]
    },
    {
     "name": "stdout",
     "output_type": "stream",
     "text": [
      "Epoch [171/200], Loss: 12536.6068, Train Accuracy: 0.0000, Test Accuracy: 0.0000\n"
     ]
    },
    {
     "name": "stderr",
     "output_type": "stream",
     "text": [
      "Epoch 172/200: 100%|██████████| 75/75 [00:00<00:00, 276.68it/s]\n",
      "Epoch 173/200:  37%|███▋      | 28/75 [00:00<00:00, 276.63it/s]"
     ]
    },
    {
     "name": "stdout",
     "output_type": "stream",
     "text": [
      "Epoch [172/200], Loss: 14902.9464, Train Accuracy: 0.0000, Test Accuracy: 0.0000\n"
     ]
    },
    {
     "name": "stderr",
     "output_type": "stream",
     "text": [
      "Epoch 173/200: 100%|██████████| 75/75 [00:00<00:00, 273.72it/s]\n",
      "Epoch 174/200:  39%|███▊      | 29/75 [00:00<00:00, 281.34it/s]"
     ]
    },
    {
     "name": "stdout",
     "output_type": "stream",
     "text": [
      "Epoch [173/200], Loss: 18939.5781, Train Accuracy: 0.0000, Test Accuracy: 0.0000\n"
     ]
    },
    {
     "name": "stderr",
     "output_type": "stream",
     "text": [
      "Epoch 174/200: 100%|██████████| 75/75 [00:00<00:00, 278.20it/s]\n",
      "Epoch 175/200:  40%|████      | 30/75 [00:00<00:00, 291.27it/s]"
     ]
    },
    {
     "name": "stdout",
     "output_type": "stream",
     "text": [
      "Epoch [174/200], Loss: 15557.5459, Train Accuracy: 0.0000, Test Accuracy: 0.0000\n"
     ]
    },
    {
     "name": "stderr",
     "output_type": "stream",
     "text": [
      "Epoch 175/200: 100%|██████████| 75/75 [00:00<00:00, 279.26it/s]\n",
      "Epoch 176/200:  37%|███▋      | 28/75 [00:00<00:00, 262.09it/s]"
     ]
    },
    {
     "name": "stdout",
     "output_type": "stream",
     "text": [
      "Epoch [175/200], Loss: 14323.2736, Train Accuracy: 0.0000, Test Accuracy: 0.0000\n"
     ]
    },
    {
     "name": "stderr",
     "output_type": "stream",
     "text": [
      "Epoch 176/200: 100%|██████████| 75/75 [00:00<00:00, 272.37it/s]\n",
      "Epoch 177/200:  36%|███▌      | 27/75 [00:00<00:00, 264.42it/s]"
     ]
    },
    {
     "name": "stdout",
     "output_type": "stream",
     "text": [
      "Epoch [176/200], Loss: 13577.2965, Train Accuracy: 0.0000, Test Accuracy: 0.0000\n"
     ]
    },
    {
     "name": "stderr",
     "output_type": "stream",
     "text": [
      "Epoch 177/200: 100%|██████████| 75/75 [00:00<00:00, 274.29it/s]\n",
      "Epoch 178/200:  76%|███████▌  | 57/75 [00:00<00:00, 273.91it/s]"
     ]
    },
    {
     "name": "stdout",
     "output_type": "stream",
     "text": [
      "Epoch [177/200], Loss: 13072.6405, Train Accuracy: 0.0000, Test Accuracy: 0.0000\n"
     ]
    },
    {
     "name": "stderr",
     "output_type": "stream",
     "text": [
      "Epoch 178/200: 100%|██████████| 75/75 [00:00<00:00, 277.79it/s]\n",
      "Epoch 179/200:  73%|███████▎  | 55/75 [00:00<00:00, 269.25it/s]"
     ]
    },
    {
     "name": "stdout",
     "output_type": "stream",
     "text": [
      "Epoch [178/200], Loss: 13140.7767, Train Accuracy: 0.0000, Test Accuracy: 0.0000\n"
     ]
    },
    {
     "name": "stderr",
     "output_type": "stream",
     "text": [
      "Epoch 179/200: 100%|██████████| 75/75 [00:00<00:00, 269.86it/s]\n",
      "Epoch 180/200:  36%|███▌      | 27/75 [00:00<00:00, 266.94it/s]"
     ]
    },
    {
     "name": "stdout",
     "output_type": "stream",
     "text": [
      "Epoch [179/200], Loss: 12551.5739, Train Accuracy: 0.0000, Test Accuracy: 0.0000\n"
     ]
    },
    {
     "name": "stderr",
     "output_type": "stream",
     "text": [
      "Epoch 180/200: 100%|██████████| 75/75 [00:00<00:00, 270.62it/s]\n",
      "Epoch 181/200:  36%|███▌      | 27/75 [00:00<00:00, 263.25it/s]"
     ]
    },
    {
     "name": "stdout",
     "output_type": "stream",
     "text": [
      "Epoch [180/200], Loss: 11541.4936, Train Accuracy: 0.0000, Test Accuracy: 0.0000\n"
     ]
    },
    {
     "name": "stderr",
     "output_type": "stream",
     "text": [
      "Epoch 181/200: 100%|██████████| 75/75 [00:00<00:00, 272.90it/s]\n",
      "Epoch 182/200:  75%|███████▍  | 56/75 [00:00<00:00, 270.48it/s]"
     ]
    },
    {
     "name": "stdout",
     "output_type": "stream",
     "text": [
      "Epoch [181/200], Loss: 11577.3929, Train Accuracy: 0.0000, Test Accuracy: 0.0000\n"
     ]
    },
    {
     "name": "stderr",
     "output_type": "stream",
     "text": [
      "Epoch 182/200: 100%|██████████| 75/75 [00:00<00:00, 267.01it/s]\n",
      "Epoch 183/200:  37%|███▋      | 28/75 [00:00<00:00, 274.11it/s]"
     ]
    },
    {
     "name": "stdout",
     "output_type": "stream",
     "text": [
      "Epoch [182/200], Loss: 10685.2417, Train Accuracy: 0.0000, Test Accuracy: 0.0000\n"
     ]
    },
    {
     "name": "stderr",
     "output_type": "stream",
     "text": [
      "Epoch 183/200: 100%|██████████| 75/75 [00:00<00:00, 267.28it/s]\n",
      "Epoch 184/200:  72%|███████▏  | 54/75 [00:00<00:00, 267.02it/s]"
     ]
    },
    {
     "name": "stdout",
     "output_type": "stream",
     "text": [
      "Epoch [183/200], Loss: 10130.8187, Train Accuracy: 0.0000, Test Accuracy: 0.0000\n"
     ]
    },
    {
     "name": "stderr",
     "output_type": "stream",
     "text": [
      "Epoch 184/200: 100%|██████████| 75/75 [00:00<00:00, 270.41it/s]\n",
      "Epoch 185/200:  76%|███████▌  | 57/75 [00:00<00:00, 281.70it/s]"
     ]
    },
    {
     "name": "stdout",
     "output_type": "stream",
     "text": [
      "Epoch [184/200], Loss: 9875.2166, Train Accuracy: 0.0000, Test Accuracy: 0.0000\n"
     ]
    },
    {
     "name": "stderr",
     "output_type": "stream",
     "text": [
      "Epoch 185/200: 100%|██████████| 75/75 [00:00<00:00, 281.07it/s]\n",
      "Epoch 186/200:  37%|███▋      | 28/75 [00:00<00:00, 272.58it/s]"
     ]
    },
    {
     "name": "stdout",
     "output_type": "stream",
     "text": [
      "Epoch [185/200], Loss: 9715.2015, Train Accuracy: 0.0000, Test Accuracy: 0.0000\n"
     ]
    },
    {
     "name": "stderr",
     "output_type": "stream",
     "text": [
      "Epoch 186/200: 100%|██████████| 75/75 [00:00<00:00, 280.29it/s]\n",
      "Epoch 187/200:  39%|███▊      | 29/75 [00:00<00:00, 280.11it/s]"
     ]
    },
    {
     "name": "stdout",
     "output_type": "stream",
     "text": [
      "Epoch [186/200], Loss: 9398.0542, Train Accuracy: 0.0000, Test Accuracy: 0.0000\n"
     ]
    },
    {
     "name": "stderr",
     "output_type": "stream",
     "text": [
      "Epoch 187/200: 100%|██████████| 75/75 [00:00<00:00, 279.70it/s]\n",
      "Epoch 188/200:  77%|███████▋  | 58/75 [00:00<00:00, 288.90it/s]"
     ]
    },
    {
     "name": "stdout",
     "output_type": "stream",
     "text": [
      "Epoch [187/200], Loss: 9226.2468, Train Accuracy: 0.0000, Test Accuracy: 0.0000\n"
     ]
    },
    {
     "name": "stderr",
     "output_type": "stream",
     "text": [
      "Epoch 188/200: 100%|██████████| 75/75 [00:00<00:00, 284.62it/s]\n",
      "Epoch 189/200:  39%|███▊      | 29/75 [00:00<00:00, 287.01it/s]"
     ]
    },
    {
     "name": "stdout",
     "output_type": "stream",
     "text": [
      "Epoch [188/200], Loss: 9038.3417, Train Accuracy: 0.0000, Test Accuracy: 0.0000\n"
     ]
    },
    {
     "name": "stderr",
     "output_type": "stream",
     "text": [
      "Epoch 189/200: 100%|██████████| 75/75 [00:00<00:00, 281.63it/s]\n",
      "Epoch 190/200:  39%|███▊      | 29/75 [00:00<00:00, 281.60it/s]"
     ]
    },
    {
     "name": "stdout",
     "output_type": "stream",
     "text": [
      "Epoch [189/200], Loss: 9001.4913, Train Accuracy: 0.0000, Test Accuracy: 0.0000\n"
     ]
    },
    {
     "name": "stderr",
     "output_type": "stream",
     "text": [
      "Epoch 190/200: 100%|██████████| 75/75 [00:00<00:00, 284.51it/s]\n",
      "Epoch 191/200:  39%|███▊      | 29/75 [00:00<00:00, 286.38it/s]"
     ]
    },
    {
     "name": "stdout",
     "output_type": "stream",
     "text": [
      "Epoch [190/200], Loss: 8705.1010, Train Accuracy: 0.0000, Test Accuracy: 0.0000\n"
     ]
    },
    {
     "name": "stderr",
     "output_type": "stream",
     "text": [
      "Epoch 191/200: 100%|██████████| 75/75 [00:00<00:00, 284.65it/s]\n",
      "Epoch 192/200:  76%|███████▌  | 57/75 [00:00<00:00, 278.81it/s]"
     ]
    },
    {
     "name": "stdout",
     "output_type": "stream",
     "text": [
      "Epoch [191/200], Loss: 8795.6658, Train Accuracy: 0.0000, Test Accuracy: 0.0000\n"
     ]
    },
    {
     "name": "stderr",
     "output_type": "stream",
     "text": [
      "Epoch 192/200: 100%|██████████| 75/75 [00:00<00:00, 277.92it/s]\n",
      "Epoch 193/200:  79%|███████▊  | 59/75 [00:00<00:00, 284.25it/s]"
     ]
    },
    {
     "name": "stdout",
     "output_type": "stream",
     "text": [
      "Epoch [192/200], Loss: 8546.0538, Train Accuracy: 0.0000, Test Accuracy: 0.0000\n"
     ]
    },
    {
     "name": "stderr",
     "output_type": "stream",
     "text": [
      "Epoch 193/200: 100%|██████████| 75/75 [00:00<00:00, 295.34it/s]\n",
      "Epoch 194/200:  43%|████▎     | 32/75 [00:00<00:00, 292.09it/s]"
     ]
    },
    {
     "name": "stdout",
     "output_type": "stream",
     "text": [
      "Epoch [193/200], Loss: 8496.0557, Train Accuracy: 0.0000, Test Accuracy: 0.0000\n"
     ]
    },
    {
     "name": "stderr",
     "output_type": "stream",
     "text": [
      "Epoch 194/200: 100%|██████████| 75/75 [00:00<00:00, 277.55it/s]\n",
      "Epoch 195/200:  77%|███████▋  | 58/75 [00:00<00:00, 289.88it/s]"
     ]
    },
    {
     "name": "stdout",
     "output_type": "stream",
     "text": [
      "Epoch [194/200], Loss: 8478.0845, Train Accuracy: 0.0000, Test Accuracy: 0.0000\n"
     ]
    },
    {
     "name": "stderr",
     "output_type": "stream",
     "text": [
      "Epoch 195/200: 100%|██████████| 75/75 [00:00<00:00, 287.74it/s]\n",
      "Epoch 196/200:  40%|████      | 30/75 [00:00<00:00, 291.14it/s]"
     ]
    },
    {
     "name": "stdout",
     "output_type": "stream",
     "text": [
      "Epoch [195/200], Loss: 8361.8285, Train Accuracy: 0.0000, Test Accuracy: 0.0000\n"
     ]
    },
    {
     "name": "stderr",
     "output_type": "stream",
     "text": [
      "Epoch 196/200: 100%|██████████| 75/75 [00:00<00:00, 287.81it/s]\n",
      "Epoch 197/200:  79%|███████▊  | 59/75 [00:00<00:00, 288.77it/s]"
     ]
    },
    {
     "name": "stdout",
     "output_type": "stream",
     "text": [
      "Epoch [196/200], Loss: 8176.0136, Train Accuracy: 0.0000, Test Accuracy: 0.0000\n"
     ]
    },
    {
     "name": "stderr",
     "output_type": "stream",
     "text": [
      "Epoch 197/200: 100%|██████████| 75/75 [00:00<00:00, 287.26it/s]\n",
      "Epoch 198/200:  40%|████      | 30/75 [00:00<00:00, 291.35it/s]"
     ]
    },
    {
     "name": "stdout",
     "output_type": "stream",
     "text": [
      "Epoch [197/200], Loss: 8106.1257, Train Accuracy: 0.0000, Test Accuracy: 0.0000\n"
     ]
    },
    {
     "name": "stderr",
     "output_type": "stream",
     "text": [
      "Epoch 198/200: 100%|██████████| 75/75 [00:00<00:00, 287.93it/s]\n",
      "Epoch 199/200:  40%|████      | 30/75 [00:00<00:00, 294.32it/s]"
     ]
    },
    {
     "name": "stdout",
     "output_type": "stream",
     "text": [
      "Epoch [198/200], Loss: 8082.3326, Train Accuracy: 0.0000, Test Accuracy: 0.0000\n"
     ]
    },
    {
     "name": "stderr",
     "output_type": "stream",
     "text": [
      "Epoch 199/200: 100%|██████████| 75/75 [00:00<00:00, 291.04it/s]\n",
      "Epoch 200/200:  39%|███▊      | 29/75 [00:00<00:00, 289.34it/s]"
     ]
    },
    {
     "name": "stdout",
     "output_type": "stream",
     "text": [
      "Epoch [199/200], Loss: 8041.2825, Train Accuracy: 0.0000, Test Accuracy: 0.0000\n"
     ]
    },
    {
     "name": "stderr",
     "output_type": "stream",
     "text": [
      "Epoch 200/200: 100%|██████████| 75/75 [00:00<00:00, 287.20it/s]\n"
     ]
    },
    {
     "name": "stdout",
     "output_type": "stream",
     "text": [
      "Epoch [200/200], Loss: 8081.4421, Train Accuracy: 0.0000, Test Accuracy: 0.0000\n"
     ]
    },
    {
     "data": {
      "image/png": "[encoded data removed]",
      "text/plain": [
       "<Figure size 1200x400 with 2 Axes>"
      ]
     },
     "metadata": {},
     "output_type": "display_data"
    },
    {
     "name": "stdout",
     "output_type": "stream",
     "text": [
      "Model saved to ./model/cnn1.pth\n"
     ]
    }
   ],
   "source": [
    "if __name__ == \"__main__\":\n",
    "    # 超参数\n",
    "    input_height = 2\n",
    "    input_width = 1000\n",
    "    output_dim = 27\n",
    "    num_samples = 3000\n",
    "    batch_size = 32\n",
    "    num_epochs = 200\n",
    "    learning_rate = 0.001\n",
    "\n",
    "    X, y = generate_data(num_samples, input_width)\n",
    "    dataset = TensorDataset(X.to(device), y.to(device))\n",
    "    train_size = int(0.8 * num_samples)\n",
    "    test_size = num_samples - train_size\n",
    "    train_dataset, test_dataset = random_split(dataset, [train_size, test_size])\n",
    "    train_loader = DataLoader(train_dataset, batch_size=batch_size, shuffle=True)\n",
    "    test_loader = DataLoader(test_dataset, batch_size=batch_size, shuffle=False)\n",
    "\n",
    "    # 初始化模型、损失函数和优化器\n",
    "    model = CNN1(input_height, input_width, output_dim).to(device)\n",
    "    criterion = nn.MSELoss()  # 均方误差损失函数\n",
    "    optimizer = optim.Adam(model.parameters(), lr=learning_rate)\n",
    "\n",
    "    # 训练模型\n",
    "    train_losses, train_accuracies, test_accuracies = train_model(model, train_loader, test_loader, criterion,\n",
    "                                                                  optimizer, num_epochs)\n",
    "\n",
    "    # 绘制训练过程\n",
    "    plot_training_curve(train_losses, train_accuracies, test_accuracies)\n",
    "\n",
    "    # 保存模型\n",
    "    torch.save(model.state_dict(), \"./model/cnn1.pth\")\n",
    "    print(\"Model saved to ./model/cnn1.pth\")\n",
    "\n",
    "    # 加载模型并测试\n",
    "    model.load_state_dict(torch.load(\"./model/cnn1.pth\"))\n",
    "    test_accuracy = calculate_accuracy(model, test_loader)"
   ]
  },
  {
   "cell_type": "code",
   "execution_count": null,
   "metadata": {},
   "outputs": [],
   "source": []
  }
 ],
 "metadata": {
  "kernelspec": {
   "display_name": "sagan",
   "language": "python",
   "name": "python3"
  },
  "language_info": {
   "codemirror_mode": {
    "name": "ipython",
    "version": 3
   },
   "file_extension": ".py",
   "mimetype": "text/x-python",
   "name": "python",
   "nbconvert_exporter": "python",
   "pygments_lexer": "ipython3",
   "version": "3.12.8"
  }
 },
 "nbformat": 4,
 "nbformat_minor": 2
}
